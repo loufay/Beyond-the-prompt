{
 "cells": [
  {
   "cell_type": "code",
   "execution_count": 1,
   "metadata": {},
   "outputs": [
    {
     "name": "stdout",
     "output_type": "stream",
     "text": [
      "/mnt/data2/datasets_lfay/MedImageInsights/Visualization\n"
     ]
    },
    {
     "name": "stderr",
     "output_type": "stream",
     "text": [
      "/mnt/data2/datasets_lfay/MedImageInsights/.venv/lib/python3.8/site-packages/tqdm/auto.py:21: TqdmWarning: IProgress not found. Please update jupyter and ipywidgets. See https://ipywidgets.readthedocs.io/en/stable/user_install.html\n",
      "  from .autonotebook import tqdm as notebook_tqdm\n"
     ]
    }
   ],
   "source": [
    "import pandas as pd\n",
    "import os\n",
    "\n",
    "import sys\n",
    "current_dir = os.getcwd()\n",
    "print(current_dir)\n",
    "current_dir = \"/mnt/data2/datasets_lfay/MedImageInsights/\"\n",
    "sys.path.append(current_dir)\n",
    "from MedImageInsight.medimageinsightmodel import MedImageInsight\n",
    "current_dir_pred = current_dir + \"/predictions\"\n",
    "sys.path.append(current_dir_pred)\n",
    "from utils import balance_dataset"
   ]
  },
  {
   "cell_type": "markdown",
   "metadata": {},
   "source": [
    "### MIMIC"
   ]
  },
  {
   "cell_type": "code",
   "execution_count": 2,
   "metadata": {},
   "outputs": [
    {
     "name": "stdout",
     "output_type": "stream",
     "text": [
      "MIMIC\n",
      "Train: 88301\n",
      "Test: 52982\n",
      "Val: 5886\n"
     ]
    }
   ],
   "source": [
    "df_mimic_train = pd.read_csv('/mnt/data2/datasets_lfay/MedImageInsights/data/MIMIC-v1.0-512/train.csv')\n",
    "df_mimic_test = pd.read_csv('/mnt/data2/datasets_lfay/MedImageInsights/data/MIMIC-v1.0-512/test.csv')\n",
    "df_mimic_val = pd.read_csv('/mnt/data2/datasets_lfay/MedImageInsights/data/MIMIC-v1.0-512/val.csv')\n",
    "\n",
    "print('MIMIC')\n",
    "print('Train:', len(df_mimic_train))\n",
    "print('Test:', len(df_mimic_test))\n",
    "print('Val:', len(df_mimic_val))\n"
   ]
  },
  {
   "cell_type": "code",
   "execution_count": null,
   "metadata": {},
   "outputs": [
    {
     "name": "stdout",
     "output_type": "stream",
     "text": [
      "MIMIC No Finding vs Pneumonia\n",
      "Train: 13646\n",
      "Test: 8186\n",
      "Val: 910\n"
     ]
    }
   ],
   "source": [
    "\n",
    "# No finding vs pneumonia\n",
    "df_mimic_train_no_finding  = balance_dataset(df_mimic_train, \"Pneumonia\", 1,False)\n",
    "df_mimic_test_no_finding  = balance_dataset(df_mimic_test, \"Pneumonia\", 1,False)\n",
    "df_mimic_val_no_finding  = balance_dataset(df_mimic_val, \"Pneumonia\", 1,False)\n",
    "\n",
    "print('MIMIC No Finding vs Pneumonia')\n",
    "print('Train:', len(df_mimic_train_no_finding))\n",
    "print('Test:', len(df_mimic_test_no_finding))\n",
    "print('Val:', len(df_mimic_val_no_finding))\n"
   ]
  },
  {
   "cell_type": "code",
   "execution_count": 15,
   "metadata": {},
   "outputs": [
    {
     "name": "stdout",
     "output_type": "stream",
     "text": [
      "Train: 0.6000351772051711\n",
      "Test: 0.35995075191276055\n",
      "Val: 0.04001407088206842\n"
     ]
    }
   ],
   "source": [
    "# compute percentage of dataset splits\n",
    "total = len(df_mimic_train_no_finding) + len(df_mimic_test_no_finding) + len(df_mimic_val_no_finding)\n",
    "print('Train:', len(df_mimic_train_no_finding)/total)\n",
    "print('Test:', len(df_mimic_test_no_finding)/total)\n",
    "print('Val:', len(df_mimic_val_no_finding)/total)"
   ]
  },
  {
   "cell_type": "markdown",
   "metadata": {},
   "source": [
    "### CheXpert"
   ]
  },
  {
   "cell_type": "code",
   "execution_count": 8,
   "metadata": {},
   "outputs": [
    {
     "name": "stdout",
     "output_type": "stream",
     "text": [
      "CheXpert\n",
      "Train: 96973\n",
      "Test: 58185\n",
      "Val: 6464\n"
     ]
    }
   ],
   "source": [
    "df_chexpert_train = pd.read_csv('/mnt/data2/datasets_lfay/MedImageInsights/data/CheXpert-v1.0-512/train.csv')\n",
    "df_chexpert_test = pd.read_csv('/mnt/data2/datasets_lfay/MedImageInsights/data/CheXpert-v1.0-512/test.csv')\n",
    "df_chexpert_val = pd.read_csv('/mnt/data2/datasets_lfay/MedImageInsights/data/CheXpert-v1.0-512/val.csv')\n",
    "\n",
    "print('CheXpert')\n",
    "print('Train:', len(df_chexpert_train))\n",
    "print('Test:', len(df_chexpert_test))\n",
    "print('Val:', len(df_chexpert_val))"
   ]
  },
  {
   "cell_type": "code",
   "execution_count": 11,
   "metadata": {},
   "outputs": [
    {
     "name": "stdout",
     "output_type": "stream",
     "text": [
      "CheXpert No Finding vs Pneumonia\n",
      "Train: 4178\n",
      "Test: 2508\n",
      "Val: 278\n"
     ]
    }
   ],
   "source": [
    "df_chexpert_train_no_finding = balance_dataset(df_chexpert_train, \"Pneumonia\", 1,False)\n",
    "df_chexpert_test_no_finding = balance_dataset(df_chexpert_test, \"Pneumonia\", 1,False)\n",
    "df_chexpert_val_no_finding = balance_dataset(df_chexpert_val, \"Pneumonia\", 1,False)\n",
    "\n",
    "print('CheXpert No Finding vs Pneumonia')\n",
    "print('Train:', len(df_chexpert_train_no_finding))\n",
    "print('Test:', len(df_chexpert_test_no_finding))\n",
    "print('Val:', len(df_chexpert_val_no_finding))"
   ]
  },
  {
   "cell_type": "code",
   "execution_count": 16,
   "metadata": {},
   "outputs": [
    {
     "name": "stdout",
     "output_type": "stream",
     "text": [
      "Train: 0.5999425617461229\n",
      "Test: 0.360137851809305\n",
      "Val: 0.03991958644457209\n"
     ]
    }
   ],
   "source": [
    "# compute percentage of dataset splits\n",
    "total = len(df_chexpert_train_no_finding) + len(df_chexpert_test_no_finding) + len(df_chexpert_val_no_finding)\n",
    "print('Train:', len(df_chexpert_train_no_finding)/total)\n",
    "print('Test:', len(df_chexpert_test_no_finding)/total)\n",
    "print('Val:', len(df_chexpert_val_no_finding)/total)"
   ]
  },
  {
   "cell_type": "markdown",
   "metadata": {},
   "source": [
    "### VinDr-PCXR"
   ]
  },
  {
   "cell_type": "code",
   "execution_count": 13,
   "metadata": {},
   "outputs": [
    {
     "name": "stdout",
     "output_type": "stream",
     "text": [
      "VindR\n",
      "Train: 7341\n",
      "Test: 1397\n",
      "Val: 387\n"
     ]
    }
   ],
   "source": [
    "df_vindr_train = pd.read_csv('/mnt/data2/datasets_lfay/MedImageInsights/data/vindr-pcxr/train.csv')\n",
    "df_vindr_test = pd.read_csv('/mnt/data2/datasets_lfay/MedImageInsights/data/vindr-pcxr/test.csv')\n",
    "df_vindr_val = pd.read_csv('/mnt/data2/datasets_lfay/MedImageInsights/data/vindr-pcxr/val.csv')\n",
    "\n",
    "print('VindR')\n",
    "print('Train:', len(df_vindr_train))\n",
    "print('Test:', len(df_vindr_test))\n",
    "print('Val:', len(df_vindr_val))"
   ]
  },
  {
   "cell_type": "code",
   "execution_count": 14,
   "metadata": {},
   "outputs": [
    {
     "name": "stdout",
     "output_type": "stream",
     "text": [
      "VindR No Finding vs Pneumonia\n",
      "Train: 744\n",
      "Test: 178\n",
      "Val: 40\n"
     ]
    }
   ],
   "source": [
    "df_vindr_train_no_finding = balance_dataset(df_vindr_train, \"Pneumonia\", 1,False)\n",
    "df_vindr_test_no_finding = balance_dataset(df_vindr_test, \"Pneumonia\", 1,False)\n",
    "df_vindr_val_no_finding = balance_dataset(df_vindr_val, \"Pneumonia\", 1,False)\n",
    "\n",
    "print('VindR No Finding vs Pneumonia')\n",
    "print('Train:', len(df_vindr_train_no_finding))\n",
    "print('Test:', len(df_vindr_test_no_finding))\n",
    "print('Val:', len(df_vindr_val_no_finding))"
   ]
  },
  {
   "cell_type": "code",
   "execution_count": 17,
   "metadata": {},
   "outputs": [
    {
     "name": "stdout",
     "output_type": "stream",
     "text": [
      "Train: 0.7733887733887734\n",
      "Test: 0.18503118503118504\n",
      "Val: 0.04158004158004158\n"
     ]
    }
   ],
   "source": [
    "# compute percentage of dataset splits\n",
    "total = len(df_vindr_train_no_finding) + len(df_vindr_test_no_finding) + len(df_vindr_val_no_finding)\n",
    "print('Train:', len(df_vindr_train_no_finding)/total)\n",
    "print('Test:', len(df_vindr_test_no_finding)/total)\n",
    "print('Val:', len(df_vindr_val_no_finding)/total)"
   ]
  }
 ],
 "metadata": {
  "kernelspec": {
   "display_name": ".venv",
   "language": "python",
   "name": "python3"
  },
  "language_info": {
   "codemirror_mode": {
    "name": "ipython",
    "version": 3
   },
   "file_extension": ".py",
   "mimetype": "text/x-python",
   "name": "python",
   "nbconvert_exporter": "python",
   "pygments_lexer": "ipython3",
   "version": "3.8.19"
  }
 },
 "nbformat": 4,
 "nbformat_minor": 2
}
