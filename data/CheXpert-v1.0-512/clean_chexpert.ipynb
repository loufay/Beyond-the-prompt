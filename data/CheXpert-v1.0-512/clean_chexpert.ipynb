{
 "cells": [
  {
   "cell_type": "markdown",
   "metadata": {},
   "source": [
    "# CheXpert"
   ]
  },
  {
   "cell_type": "code",
   "execution_count": 35,
   "metadata": {},
   "outputs": [],
   "source": [
    "columns = [\"Path\",\t\"report\",\t\"section_findings\"\t,\"section_impression\"]\n",
    "metadata_columns = ['age', 'sex', 'race']\n",
    "diseases = ['No Finding', 'Enlarged Cardiomediastinum', 'Cardiomegaly', 'Lung Opacity',\n",
    "       'Lung Lesion', 'Edema', 'Consolidation', 'Pneumonia', 'Atelectasis',\n",
    "       'Pneumothorax', 'Pleural Effusion', 'Pleural Other', 'Fracture',\n",
    "       'Support Devices']"
   ]
  },
  {
   "cell_type": "code",
   "execution_count": 1,
   "metadata": {},
   "outputs": [],
   "source": [
    "import pandas as pd\n",
    "import numpy as np\n",
    "import os"
   ]
  },
  {
   "cell_type": "code",
   "execution_count": 2,
   "metadata": {},
   "outputs": [],
   "source": [
    "## LOAD EMBEDDINGS\n",
    "df_embeddings_train = pd.read_csv(f\"/mnt/data2/datasets_lfay/MedImageInsights/data/Chexpert/train_embeddings.csv\")\n",
    "df_embeddings_val = pd.read_csv(f\"/mnt/data2/datasets_lfay/MedImageInsights/data/Chexpert/val_embeddings.csv\")\n",
    "df_embeddings_test = pd.read_csv(f\"/mnt/data2/datasets_lfay/MedImageInsights/data/Chexpert/test_embeddings.csv\")\n",
    "\n",
    "\n",
    "# Rename Unnamed: 0 to Path\n",
    "df_embeddings_train = df_embeddings_train.rename(columns={\"Unnamed: 0\": \"Path\"})\n",
    "df_embeddings_val = df_embeddings_val.rename(columns={\"Unnamed: 0\": \"Path\"})\n",
    "df_embeddings_test = df_embeddings_test.rename(columns={\"Unnamed: 0\": \"Path\"})\n",
    "\n",
    "\n",
    "\n",
    "# Remove from each Path the first part of the path to match the original path\n",
    "df_embeddings_train[\"Path\"] = df_embeddings_train[\"Path\"].apply(lambda x: os.path.join( *x.split('/')[6:]))\n",
    "df_embeddings_val[\"Path\"] = df_embeddings_val[\"Path\"].apply(lambda x: os.path.join( *x.split('/')[6:]))\n",
    "df_embeddings_test[\"Path\"] = df_embeddings_test[\"Path\"].apply(lambda x: os.path.join( *x.split('/')[6:]))\n",
    "\n",
    "## LOAD DATASET\n",
    "df_train = pd.read_csv(\"/mnt/data2/datasets_lfay/MedImageInsights/data/Chexpert/train.csv\")\n",
    "df_val = pd.read_csv(\"/mnt/data2/datasets_lfay/MedImageInsights/data/Chexpert/val.csv\")\n",
    "df_test = pd.read_csv(\"/mnt/data2/datasets_lfay/MedImageInsights/data/Chexpert/test.csv\")\n",
    "\n",
    "df_train = df_train.rename(columns={\"path_to_image\": \"Path\"})\n",
    "df_val = df_val.rename(columns={\"path_to_image\": \"Path\"})\n",
    "df_test = df_test.rename(columns={\"path_to_image\": \"Path\"})\n",
    "\n",
    "df_train[\"Path\"] = df_train[\"Path\"].apply(lambda x: os.path.join( *x.split('/')[:]))\n",
    "df_val[\"Path\"] = df_val[\"Path\"].apply(lambda x: os.path.join( *x.split('/')[:]))\n",
    "df_test[\"Path\"] = df_test[\"Path\"].apply(lambda x: os.path.join( *x.split('/')[:]))\n",
    "\n",
    "## MERGE\n",
    "df_train_merged = pd.merge(df_train, df_embeddings_train, on=\"Path\")\n",
    "df_val_merged = pd.merge(df_val, df_embeddings_val, on=\"Path\")\n",
    "df_test_merged = pd.merge(df_test, df_embeddings_test, on=\"Path\")"
   ]
  },
  {
   "cell_type": "code",
   "execution_count": 13,
   "metadata": {},
   "outputs": [
    {
     "data": {
      "text/plain": [
       "'/CheXpert-v1.0-512/images/train/patient08517/study15/view1_frontal.jpg'"
      ]
     },
     "execution_count": 13,
     "metadata": {},
     "output_type": "execute_result"
    }
   ],
   "source": [
    "df_train_merged.Path\n",
    "# add to path /CheXpert-v1.0-512/images/\n",
    "df_train_merged[\"Path\"] = df_train_merged[\"Path\"].apply(lambda x: os.path.join(\"/CheXpert-v1.0-512/images/\", x))\n",
    "df_val_merged[\"Path\"] = df_val_merged[\"Path\"].apply(lambda x: os.path.join(\"/CheXpert-v1.0-512/images/\", x))\n",
    "df_test_merged[\"Path\"] = df_test_merged[\"Path\"].apply(lambda x: os.path.join(\"/CheXpert-v1.0-512/images/\", x))\n",
    "\n",
    "df_train_merged.Path[0]"
   ]
  },
  {
   "cell_type": "code",
   "execution_count": 36,
   "metadata": {},
   "outputs": [],
   "source": [
    "all_columns = columns + metadata_columns + diseases+ df_train_merged.columns[-1024:].tolist()\n"
   ]
  },
  {
   "cell_type": "code",
   "execution_count": 37,
   "metadata": {},
   "outputs": [
    {
     "data": {
      "text/html": [
       "<div>\n",
       "<style scoped>\n",
       "    .dataframe tbody tr th:only-of-type {\n",
       "        vertical-align: middle;\n",
       "    }\n",
       "\n",
       "    .dataframe tbody tr th {\n",
       "        vertical-align: top;\n",
       "    }\n",
       "\n",
       "    .dataframe thead th {\n",
       "        text-align: right;\n",
       "    }\n",
       "</style>\n",
       "<table border=\"1\" class=\"dataframe\">\n",
       "  <thead>\n",
       "    <tr style=\"text-align: right;\">\n",
       "      <th></th>\n",
       "      <th>Path</th>\n",
       "      <th>report</th>\n",
       "      <th>section_findings</th>\n",
       "      <th>section_impression</th>\n",
       "      <th>age</th>\n",
       "      <th>sex</th>\n",
       "      <th>race</th>\n",
       "      <th>No Finding</th>\n",
       "      <th>Enlarged Cardiomediastinum</th>\n",
       "      <th>Cardiomegaly</th>\n",
       "      <th>...</th>\n",
       "      <th>1014</th>\n",
       "      <th>1015</th>\n",
       "      <th>1016</th>\n",
       "      <th>1017</th>\n",
       "      <th>1018</th>\n",
       "      <th>1019</th>\n",
       "      <th>1020</th>\n",
       "      <th>1021</th>\n",
       "      <th>1022</th>\n",
       "      <th>1023</th>\n",
       "    </tr>\n",
       "  </thead>\n",
       "  <tbody>\n",
       "    <tr>\n",
       "      <th>0</th>\n",
       "      <td>/CheXpert-v1.0-512/images/train/patient08517/s...</td>\n",
       "      <td>NARRATIVE:\\nRADIOGRAPHIC EXAMINATION OF THE CH...</td>\n",
       "      <td>\\n \\nStable appearance of median sternotomy wi...</td>\n",
       "      <td>\\n \\n1.  Interval resolution of pulmonary edem...</td>\n",
       "      <td>53.0</td>\n",
       "      <td>Male</td>\n",
       "      <td>Asian</td>\n",
       "      <td>0.0</td>\n",
       "      <td>0.0</td>\n",
       "      <td>0.0</td>\n",
       "      <td>...</td>\n",
       "      <td>0.015382</td>\n",
       "      <td>0.009719</td>\n",
       "      <td>-0.018445</td>\n",
       "      <td>-0.006051</td>\n",
       "      <td>-0.011464</td>\n",
       "      <td>-0.016469</td>\n",
       "      <td>-0.016203</td>\n",
       "      <td>-0.019582</td>\n",
       "      <td>0.011147</td>\n",
       "      <td>0.025024</td>\n",
       "    </tr>\n",
       "    <tr>\n",
       "      <th>1</th>\n",
       "      <td>/CheXpert-v1.0-512/images/train/patient55989/s...</td>\n",
       "      <td>NARRATIVE:\\nEXAM: Chest 1 View, May 29, 2006\\n...</td>\n",
       "      <td>NaN</td>\n",
       "      <td>\\n \\n1.  NEW LEFT BASE ATELECTASIS OR CONSOLID...</td>\n",
       "      <td>30.0</td>\n",
       "      <td>Female</td>\n",
       "      <td>White</td>\n",
       "      <td>0.0</td>\n",
       "      <td>0.0</td>\n",
       "      <td>0.0</td>\n",
       "      <td>...</td>\n",
       "      <td>0.015354</td>\n",
       "      <td>-0.014592</td>\n",
       "      <td>0.004210</td>\n",
       "      <td>-0.051690</td>\n",
       "      <td>-0.000128</td>\n",
       "      <td>0.002003</td>\n",
       "      <td>-0.001599</td>\n",
       "      <td>0.002281</td>\n",
       "      <td>-0.024110</td>\n",
       "      <td>0.000979</td>\n",
       "    </tr>\n",
       "  </tbody>\n",
       "</table>\n",
       "<p>2 rows × 1045 columns</p>\n",
       "</div>"
      ],
      "text/plain": [
       "                                                Path  \\\n",
       "0  /CheXpert-v1.0-512/images/train/patient08517/s...   \n",
       "1  /CheXpert-v1.0-512/images/train/patient55989/s...   \n",
       "\n",
       "                                              report  \\\n",
       "0  NARRATIVE:\\nRADIOGRAPHIC EXAMINATION OF THE CH...   \n",
       "1  NARRATIVE:\\nEXAM: Chest 1 View, May 29, 2006\\n...   \n",
       "\n",
       "                                    section_findings  \\\n",
       "0  \\n \\nStable appearance of median sternotomy wi...   \n",
       "1                                                NaN   \n",
       "\n",
       "                                  section_impression   age     sex   race  \\\n",
       "0  \\n \\n1.  Interval resolution of pulmonary edem...  53.0    Male  Asian   \n",
       "1  \\n \\n1.  NEW LEFT BASE ATELECTASIS OR CONSOLID...  30.0  Female  White   \n",
       "\n",
       "   No Finding  Enlarged Cardiomediastinum  Cardiomegaly  ...      1014  \\\n",
       "0         0.0                         0.0           0.0  ...  0.015382   \n",
       "1         0.0                         0.0           0.0  ...  0.015354   \n",
       "\n",
       "       1015      1016      1017      1018      1019      1020      1021  \\\n",
       "0  0.009719 -0.018445 -0.006051 -0.011464 -0.016469 -0.016203 -0.019582   \n",
       "1 -0.014592  0.004210 -0.051690 -0.000128  0.002003 -0.001599  0.002281   \n",
       "\n",
       "       1022      1023  \n",
       "0  0.011147  0.025024  \n",
       "1 -0.024110  0.000979  \n",
       "\n",
       "[2 rows x 1045 columns]"
      ]
     },
     "execution_count": 37,
     "metadata": {},
     "output_type": "execute_result"
    }
   ],
   "source": [
    "df_train_merged[all_columns].head(2)\n"
   ]
  },
  {
   "cell_type": "code",
   "execution_count": 38,
   "metadata": {},
   "outputs": [],
   "source": [
    "df_train_merged[all_columns].to_csv(\"/mnt/data2/datasets_lfay/MedImageInsights/data/Chexpert/train.csv\", index=False)\n",
    "df_val_merged[all_columns].to_csv(\"/mnt/data2/datasets_lfay/MedImageInsights/data/Chexpert/val.csv\", index=False)\n",
    "df_test_merged[all_columns].to_csv(\"/mnt/data2/datasets_lfay/MedImageInsights/data/Chexpert/test.csv\", index=False)\n"
   ]
  }
 ],
 "metadata": {
  "kernelspec": {
   "display_name": ".venv",
   "language": "python",
   "name": "python3"
  },
  "language_info": {
   "codemirror_mode": {
    "name": "ipython",
    "version": 3
   },
   "file_extension": ".py",
   "mimetype": "text/x-python",
   "name": "python",
   "nbconvert_exporter": "python",
   "pygments_lexer": "ipython3",
   "version": "3.8.19"
  }
 },
 "nbformat": 4,
 "nbformat_minor": 2
}
