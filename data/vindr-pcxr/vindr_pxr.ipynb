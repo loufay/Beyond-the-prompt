{
 "cells": [
  {
   "cell_type": "markdown",
   "metadata": {},
   "source": [
    "# Convert dicom to jpg"
   ]
  },
  {
   "cell_type": "code",
   "execution_count": 12,
   "metadata": {},
   "outputs": [],
   "source": [
    "import csv\n",
    "import os\n",
    "from concurrent.futures import ProcessPoolExecutor, as_completed\n",
    "\n",
    "import matplotlib.pyplot as plt\n",
    "import cv2\n",
    "import pydicom\n",
    "from PIL import Image\n",
    "import numpy as np\n",
    "from torchvision import transforms\n",
    "from pydicom.pixel_data_handlers.util import apply_voi_lut\n",
    "import os\n",
    "from tqdm import tqdm\n",
    "import uuid\n",
    "from datetime import datetime\n",
    "\n",
    "TO_KEEP = [\n",
    "    \"PixelData\",\n",
    "    \"file_meta\",\n",
    "    \"BitsAllocated\",\n",
    "    \"Rows\",\n",
    "    \"Columns\",\n",
    "    \"SamplesPerPixel\",\n",
    "    \"PhotometricInterpretation\",\n",
    "    \"PixelRepresentation\",\n",
    "    \"BitsStored\",\n",
    "    \"ImagePositionPatient\",\n",
    "    \"PixelSpacing\",\n",
    "    \"RescaleIntercept\",\n",
    "    \"RescaleSlope\",\n",
    "    \"WindowCenter\",\n",
    "    \"WindowWidth\",\n",
    "    \"Manufacturer\",\n",
    "    \"PhotometricInterpretation\",\n",
    "    \"SliceThickness\",\n",
    "    \"ImageOrientationPatient\",\n",
    "    \"VOILUTFunction\",\n",
    "    \"VOILUTSequence\",\n",
    "    \"PresentationLUTShape\",\n",
    "    \"LUTExplanation\",\n",
    "    \"Exposure\",\n",
    "    \"ExposureControlMode\",\n",
    "    \"ExposureControlModeDescription\",\n",
    "    \"ExposureInuAs\",\n",
    "    \"RelativeXRayExposure\",\n",
    "    \"ExposuresOnPlate\",\n",
    "    \"ExposureIndex\",\n",
    "    \"TargetExposureIndex\",\n",
    "    \"ExposureTimeInuS\",\n",
    "    \"ExposuresOnDetectorSinceLastCalibration\",\n",
    "    \"DetectorTimeSinceLastExposure\",\n",
    "    \"TotalNumberOfExposures\",\n",
    "    \"ExposureStatus\",\n",
    "    \"ExposureTime\",\n",
    "    \"ExposureInmAs\",\n",
    "    \"ExposureModulationType\",\n",
    "    \"KVP\",\n",
    "    \"Laterality\",\n",
    "    \"ImageLaterality\",\n",
    "    \"RescaleIntercept\",\n",
    "    \"RescaleSlope\",\n",
    "    \"RescaleType\",\n",
    "    \"XRayTubeCurrent\",\n",
    "    \"XRayTubeCurrentInuA\",\n",
    "    \"StudyDescription\",\n",
    "    \"PatientSize\",\n",
    "    \"ConvolutionKernel\",\n",
    "    \"ViewPosition\",\n",
    "    \"BodyPartExamined\",\n",
    "    \"BurnedInAnnotation\",\n",
    "]\n",
    "to_keep_set = set(TO_KEEP)\n",
    "\n",
    "\n",
    "def convert_dicom_to_images(input_file_path, jpg_filename):\n",
    "    dcm_file = pydicom.dcmread(input_file_path)\n",
    "    attributes = [attribute for attribute in dcm_file.dir()]\n",
    "    # try:\n",
    "    #     assert all(attr in to_keep_set for attr in attributes)\n",
    "    # except AssertionError:\n",
    "    #     print(f\"Error: Assertion failed for {jpg_filename} and {input_file_path}\")\n",
    "    #     return False\n",
    "    # Check if the DICOM file has one of the required pixel data attributes\n",
    "    if not any(hasattr(dcm_file, attr) for attr in [\"PixelData\", \"FloatPixelData\", \"DoubleFloatPixelData\"]):\n",
    "        print(f\"Missing pixel data in: {input_file_path}\")\n",
    "        return False\n",
    "    # Further processing assuming 'PixelData' is present for simplicity\n",
    "    try:\n",
    "        pixel_array = dcm_file.pixel_array\n",
    "        rescaled_image = cv2.convertScaleAbs(pixel_array, alpha=(255.0 / pixel_array.max()))\n",
    "    except Exception as e:\n",
    "        print(f\"Failed to process pixel data in: {input_file_path}, Error: {e}\")\n",
    "        return False\n",
    "    if dcm_file.PhotometricInterpretation == \"MONOCHROME1\":\n",
    "        rescaled_image = cv2.bitwise_not(rescaled_image)\n",
    "    adjusted_image = cv2.equalizeHist(rescaled_image)\n",
    "    cv2.imwrite(jpg_filename, adjusted_image)\n",
    "    return True\n",
    "\n",
    "\n",
    "def compare_images(jpg_path1, jpg_path2):\n",
    "    img1 = Image.open(jpg_path1)\n",
    "    img_array1 = np.asarray(img1)\n",
    "    img2 = Image.open(jpg_path2)\n",
    "    img_array2 = np.asarray(img2)\n",
    "    if img_array1.shape != img_array2.shape:\n",
    "        print(\"The images have different dimensions.\")\n",
    "        return\n",
    "    difference = np.abs(img_array1 - img_array2)\n",
    "    assert np.all(difference == 0), (jpg_path1, jpg_path2)\n",
    "\n",
    "\n",
    "def process_image(dcm_path, jpg_path, base_output_dir=\"processed_images\"):\n",
    "    unique_filename = f\"{uuid.uuid4()}.jpg\"\n",
    " #   unique_output_path = os.path.join(jpg_path)\n",
    "\n",
    "    if not os.path.exists(jpg_path):\n",
    "        os.makedirs(base_output_dir, exist_ok=True)\n",
    "\n",
    "    if not convert_dicom_to_images(dcm_path, jpg_path):\n",
    "        print(f\"Failed to process {dcm_path}\")\n",
    "\n",
    "\n"
   ]
  },
  {
   "cell_type": "code",
   "execution_count": null,
   "metadata": {},
   "outputs": [],
   "source": [
    "dcm_folder  =\"/mnt/data2/datasets_lfay/physionet.org/files/vindr-pcxr/1.0.0/train\"\n",
    "jpg_folder= \"/mnt/data2/datasets_lfay/MedImageInsights/data/vindr-pcxr/1.0.0/train\"\n",
    "\n",
    "if not os.path.exists(jpg_folder):\n",
    "    os.makedirs(jpg_folder, exist_ok=True)\n",
    "\n",
    "for dcm_path in tqdm(os.listdir(dcm_folder)):\n",
    "    jpg_path = os.path.join(jpg_folder, dcm_path.replace(\".dicom\", \".jpg\"))\n",
    "    dcm_path = os.path.join(dcm_folder, dcm_path)\n",
    "\n",
    "    try:\n",
    "        process_image(dcm_path, jpg_path)\n",
    "    except Exception as e:\n",
    "        print(f\"Failed to process {dcm_path}, Error: {e}\")\n"
   ]
  },
  {
   "cell_type": "code",
   "execution_count": 14,
   "metadata": {},
   "outputs": [
    {
     "name": "stderr",
     "output_type": "stream",
     "text": [
      " 51%|█████     | 715/1398 [00:40<00:50, 13.55it/s]/home/lfay/.local/lib/python3.8/site-packages/pydicom/pixel_data_handlers/numpy_handler.py:326: UserWarning: The odd length pixel data is missing a trailing padding byte\n",
      "  warnings.warn(\n",
      " 71%|███████   | 987/1398 [00:56<00:21, 19.27it/s]"
     ]
    },
    {
     "name": "stdout",
     "output_type": "stream",
     "text": [
      "Failed to process /mnt/data2/datasets_lfay/physionet.org/files/vindr-pcxr/1.0.0/test/index.html, Error: File is missing DICOM File Meta Information header or the 'DICM' prefix is missing from the header. Use force=True to force reading.\n"
     ]
    },
    {
     "name": "stderr",
     "output_type": "stream",
     "text": [
      "100%|██████████| 1398/1398 [01:28<00:00, 15.85it/s]\n"
     ]
    }
   ],
   "source": [
    "dcm_folder  =\"/mnt/data2/datasets_lfay/physionet.org/files/vindr-pcxr/1.0.0/test\"\n",
    "jpg_folder= \"/mnt/data2/datasets_lfay/MedImageInsights/data/vindr-pcxr/1.0.0/test\"\n",
    "\n",
    "if not os.path.exists(jpg_folder):\n",
    "    os.makedirs(jpg_folder, exist_ok=True)\n",
    "\n",
    "for dcm_path in tqdm(os.listdir(dcm_folder)):\n",
    "    jpg_path = os.path.join(jpg_folder, dcm_path.replace(\".dicom\", \".jpg\"))\n",
    "    dcm_path = os.path.join(dcm_folder, dcm_path)\n",
    "\n",
    "    try:\n",
    "        process_image(dcm_path, jpg_path)\n",
    "    except Exception as e:\n",
    "        print(f\"Failed to process {dcm_path}, Error: {e}\")\n"
   ]
  },
  {
   "cell_type": "code",
   "execution_count": 23,
   "metadata": {},
   "outputs": [
    {
     "name": "stdout",
     "output_type": "stream",
     "text": [
      "7728\n",
      "7729\n",
      "1397\n",
      "1398\n"
     ]
    }
   ],
   "source": [
    "print(len(os.listdir(\"/mnt/data2/datasets_lfay/MedImageInsights/data/vindr-pcxr/1.0.0/train\")))\n",
    "print(len(os.listdir(\"/mnt/data2/datasets_lfay/physionet.org/files/vindr-pcxr/1.0.0/train\")))\n",
    "print(len(os.listdir(\"/mnt/data2/datasets_lfay/MedImageInsights/data/vindr-pcxr/1.0.0/test\")))\n",
    "print(len(os.listdir(\"/mnt/data2/datasets_lfay/physionet.org/files/vindr-pcxr/1.0.0/test\"))) "
   ]
  }
 ],
 "metadata": {
  "kernelspec": {
   "display_name": "mitigate-bias",
   "language": "python",
   "name": "python3"
  },
  "language_info": {
   "codemirror_mode": {
    "name": "ipython",
    "version": 3
   },
   "file_extension": ".py",
   "mimetype": "text/x-python",
   "name": "python",
   "nbconvert_exporter": "python",
   "pygments_lexer": "ipython3",
   "version": "3.8.19"
  }
 },
 "nbformat": 4,
 "nbformat_minor": 2
}
