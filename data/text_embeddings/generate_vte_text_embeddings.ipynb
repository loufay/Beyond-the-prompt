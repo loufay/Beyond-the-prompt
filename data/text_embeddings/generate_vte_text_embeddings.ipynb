{
 "cells": [
  {
   "cell_type": "code",
   "execution_count": 1,
   "metadata": {},
   "outputs": [
    {
     "name": "stderr",
     "output_type": "stream",
     "text": [
      "/mnt/data2/datasets_lfay/MedImageInsights/.venv/lib/python3.8/site-packages/tqdm/auto.py:21: TqdmWarning: IProgress not found. Please update jupyter and ipywidgets. See https://ipywidgets.readthedocs.io/en/stable/user_install.html\n",
      "  from .autonotebook import tqdm as notebook_tqdm\n"
     ]
    }
   ],
   "source": [
    "import pandas as pd\n",
    "import sys\n",
    "import os\n",
    "import numpy as np\n",
    "import base64\n",
    "from sklearn.metrics.pairwise import cosine_similarity\n",
    "from PIL import Image\n",
    "import matplotlib.pyplot as plt\n",
    "\n",
    "sys.path.append(\"/mnt/data2/datasets_lfay/MedImageInsights\")\n",
    "from MedImageInsight.medimageinsightmodel import MedImageInsight\n",
    "sys.path.append(\"/mnt/data2/datasets_lfay/MedImageInsights/predictions\")\n",
    "from utils import read_image, zero_shot_prediction, extract_findings_and_impressions, create_wandb_run_name\n"
   ]
  },
  {
   "cell_type": "code",
   "execution_count": 2,
   "metadata": {},
   "outputs": [],
   "source": [
    "classes = [\"pneumonia\", \"no finding\"]\n",
    "views = [\"frontal\", \"lateral\"]\n",
    "\n",
    "# Prompt templates\n",
    "prompt_templates = [\n",
    "    \"\",\n",
    "    \"chest \",\n",
    "    \"x-ray \",\n",
    "    \"chest x-ray \",\n",
    "    \"chest x-ray anteroposterior \",\n",
    "    \"chest x-ray posteroanterior \"\n",
    "]\n"
   ]
  },
  {
   "cell_type": "code",
   "execution_count": 3,
   "metadata": {},
   "outputs": [],
   "source": [
    "# generate prompts for each class\n",
    "template_disease = [p+ \"Pneumonia\" for p in prompt_templates]\n",
    "template_no_disease = [p + \"No Pneumonia\" for p in prompt_templates]\n",
    "template_no_disease = [p + \"No Finding\" for p in prompt_templates]\n"
   ]
  },
  {
   "cell_type": "code",
   "execution_count": 4,
   "metadata": {},
   "outputs": [],
   "source": [
    "    diseases = [\n",
    "        'No Finding', 'Enlarged Cardiomediastinum', 'Cardiomegaly', 'Lung Opacity',\n",
    "        'Lung Lesion', 'Edema', 'Consolidation', 'Pneumonia', 'Atelectasis',\n",
    "        'Pneumothorax', 'Pleural Effusion', 'Pleural Other', 'Fracture', 'Support Devices'\n",
    "    ]"
   ]
  },
  {
   "cell_type": "code",
   "execution_count": 5,
   "metadata": {},
   "outputs": [],
   "source": [
    "PATH_TO_DATA = \"/mnt/data2/datasets_lfay/MedImageInsights/data\"\n",
    "read_path = PATH_TO_DATA+\"/MIMIC-v1.0-512/\"\n",
    "\n",
    "df_train = pd.read_csv(read_path + \"train.csv\")\n",
    "\n",
    "df_disease = df_train[df_train[\"Pneumonia\"] == 1]\n",
    "# single disease\n",
    "single_disease = diseases.copy()\n",
    "single_disease.remove(\"Pneumonia\")\n",
    "df_disease = df_train[(df_train[\"Pneumonia\"] == 1) & (df_train[single_disease] == 0).all(axis=1)]\n",
    "\n",
    "\n",
    "df_no_disease = df_train[df_train[\"Pneumonia\"] == 0]\n",
    "\n",
    "# embedding for no finding\n",
    "df_no_disease = df_train[df_train[\"No Finding\"] == 1]"
   ]
  },
  {
   "cell_type": "code",
   "execution_count": 6,
   "metadata": {},
   "outputs": [],
   "source": [
    "# Extract full report\n",
    "report_disease = df_disease[\"report\"].copy()\n",
    "report_disease = report_disease.dropna()\n",
    "report_disease = report_disease.sample(10, random_state=42).tolist()\n",
    "\n",
    "report_no_disease = df_no_disease[\"report\"].copy()\n",
    "report_no_disease = report_no_disease.dropna()\n",
    "report_no_disease = report_no_disease.sample(10, random_state=42).tolist()"
   ]
  },
  {
   "cell_type": "code",
   "execution_count": 7,
   "metadata": {},
   "outputs": [],
   "source": [
    "# Extract Findings \n",
    "findings_disease = df_disease.section_findings.copy()\n",
    "findings_disease = findings_disease.dropna().reset_index(drop=True)\n",
    "findings_disease = findings_disease.sample(10, random_state=42).tolist()\n",
    "\n",
    "findings_no_disease = df_no_disease.section_findings.copy()\n",
    "findings_no_disease = findings_no_disease.dropna().reset_index(drop=True)\n",
    "findings_no_disease = findings_no_disease.sample(10, random_state=42).tolist()"
   ]
  },
  {
   "cell_type": "code",
   "execution_count": 8,
   "metadata": {},
   "outputs": [],
   "source": [
    "# Extract Impression\n",
    "impression_disease = df_disease.section_impression.copy()\n",
    "impression_disease = impression_disease.dropna().reset_index(drop=True)\n",
    "impression_disease = impression_disease.sample(10, random_state=42).tolist()\n",
    "\n",
    "impression_no_disease = df_no_disease.section_impression.copy()\n",
    "impression_no_disease = impression_no_disease.dropna().reset_index(drop=True)\n",
    "impression_no_disease = impression_no_disease.sample(10, random_state=42).tolist()"
   ]
  },
  {
   "cell_type": "code",
   "execution_count": 9,
   "metadata": {},
   "outputs": [],
   "source": [
    "df_findings_impression_disease = df_disease[[\"section_findings\", \"section_impression\"]].copy()\n",
    "df_findings_impression_disease.dropna(inplace=True)\n",
    "\n",
    "findings_impression_disease = (\n",
    "    df_findings_impression_disease.section_findings.str.cat(\n",
    "        df_findings_impression_disease.section_impression, sep=\" \", na_rep=\"\"\n",
    "    )\n",
    "    .sample(10, random_state=42).tolist()\n",
    ")\n",
    "\n",
    "df_findings_impression_no_disease = df_no_disease[[\"section_findings\", \"section_impression\"]].copy()\n",
    "df_findings_impression_no_disease.dropna(inplace=True)\n",
    "\n",
    "findings_impression_no_disease = (\n",
    "    df_findings_impression_no_disease.section_findings.str.cat(\n",
    "        df_findings_impression_no_disease.section_impression, sep=\" \", na_rep=\"\"\n",
    "    )\n",
    "    .sample(10, random_state=42).tolist()\n",
    ")"
   ]
  },
  {
   "cell_type": "code",
   "execution_count": 10,
   "metadata": {},
   "outputs": [
    {
     "name": "stdout",
     "output_type": "stream",
     "text": [
      "46\n",
      "46\n",
      "6\n",
      "6\n",
      "40\n",
      "40\n"
     ]
    }
   ],
   "source": [
    "# 1. Prompt Template + All reports\n",
    "prompts_disease = template_disease + report_disease + findings_disease + impression_disease + findings_impression_disease\n",
    "prompts_no_disease = template_no_disease + report_no_disease + findings_no_disease + impression_no_disease + findings_impression_no_disease\n",
    "\n",
    "print (len(prompts_disease))\n",
    "print (len(prompts_no_disease))\n",
    "\n",
    "# 2. Prompt Template\n",
    "prompts_disease_template = template_disease\n",
    "prompts_no_disease_template = template_no_disease\n",
    "\n",
    "print (len(prompts_disease_template))\n",
    "print (len(prompts_no_disease_template))\n",
    "\n",
    "# 3. Reports\n",
    "prompts_disease_report = report_disease + findings_disease + impression_disease + findings_impression_disease\n",
    "prompts_no_disease_report = report_no_disease + findings_no_disease + impression_no_disease + findings_impression_no_disease\n",
    "\n",
    "print (len(prompts_disease_report))\n",
    "print (len(prompts_no_disease_report))\n"
   ]
  },
  {
   "cell_type": "code",
   "execution_count": 11,
   "metadata": {},
   "outputs": [
    {
     "name": "stdout",
     "output_type": "stream",
     "text": [
      "Model loaded successfully on device: cuda\n"
     ]
    }
   ],
   "source": [
    "## 3. Initialize model\n",
    "classifier = MedImageInsight(\n",
    "    model_dir=\"/mnt/data2/datasets_lfay/MedImageInsights/MedImageInsight/2024.09.27\",\n",
    "    vision_model_name=\"medimageinsigt-v1.0.0.pt\",\n",
    "    language_model_name=\"language_model.pth\"\n",
    ")\n",
    "classifier.load_model()\n"
   ]
  },
  {
   "cell_type": "code",
   "execution_count": 12,
   "metadata": {},
   "outputs": [
    {
     "name": "stdout",
     "output_type": "stream",
     "text": [
      "(46, 1024)\n",
      "(46, 1024)\n",
      "(92, 1024)\n",
      "(6, 1024)\n",
      "(6, 1024)\n",
      "(12, 1024)\n",
      "(40, 1024)\n",
      "(40, 1024)\n",
      "(80, 1024)\n"
     ]
    }
   ],
   "source": [
    "#1. Prompt Template + All reports \n",
    "embeddings_disease = classifier.encode(texts=prompts_disease)[\"text_embeddings\"]\n",
    "embeddings_no_disease = classifier.encode(texts=prompts_no_disease)[\"text_embeddings\"]\n",
    "embeddings = np.concatenate([embeddings_no_disease, embeddings_disease], axis=0)\n",
    "print(embeddings_disease.shape)\n",
    "print(embeddings_no_disease.shape)\n",
    "print(embeddings.shape)\n",
    "\n",
    "#2. Prompt Template\n",
    "embeddings_disease_template = classifier.encode(texts=prompts_disease_template)[\"text_embeddings\"]\n",
    "embeddings_no_disease_template = classifier.encode(texts=prompts_no_disease_template)[\"text_embeddings\"]\n",
    "embeddings_template = np.concatenate([embeddings_no_disease_template, embeddings_disease_template], axis=0)\n",
    "print(embeddings_disease_template.shape)\n",
    "print(embeddings_no_disease_template.shape)\n",
    "print(embeddings_template.shape)\n",
    "\n",
    "#3. Reports\n",
    "embeddings_disease_report = classifier.encode(texts=prompts_disease_report)[\"text_embeddings\"]\n",
    "embeddings_no_disease_report = classifier.encode(texts=prompts_no_disease_report)[\"text_embeddings\"]\n",
    "embeddings_report = np.concatenate([embeddings_no_disease_report, embeddings_disease_report], axis=0)\n",
    "print(embeddings_disease_report.shape)\n",
    "print(embeddings_no_disease_report.shape)\n",
    "print(embeddings_report.shape)\n",
    "\n",
    "\n"
   ]
  },
  {
   "cell_type": "code",
   "execution_count": 13,
   "metadata": {},
   "outputs": [],
   "source": [
    "# save embeddings\n",
    "np.save(\"/mnt/data2/datasets_lfay/MedImageInsights/data/text_embeddings/embeddings_92_no_finding.npy\", embeddings)\n",
    "np.save(\"/mnt/data2/datasets_lfay/MedImageInsights/data/text_embeddings/embeddings_92_no_finding_template.npy\", embeddings_template)\n",
    "np.save(\"/mnt/data2/datasets_lfay/MedImageInsights/data/text_embeddings/embeddings_92_no_finding_report.npy\", embeddings_report)\n"
   ]
  },
  {
   "cell_type": "code",
   "execution_count": 14,
   "metadata": {},
   "outputs": [
    {
     "name": "stdout",
     "output_type": "stream",
     "text": [
      "(1024,)\n",
      "(1024,)\n",
      "(2, 1024)\n",
      "(1024,)\n",
      "(1024,)\n",
      "(2, 1024)\n",
      "(1024,)\n",
      "(1024,)\n",
      "(2, 1024)\n"
     ]
    }
   ],
   "source": [
    "# Step 2: Compute average embeddings for each class\n",
    "# 1. Prompt Template + All reports\n",
    "average_embedding_disease = np.mean(embeddings_disease, axis=0)\n",
    "average_embedding_no_disease = np.mean(embeddings_no_disease, axis=0)\n",
    "average_embedding = np.stack([average_embedding_no_disease,average_embedding_disease], axis=0)\n",
    "print(average_embedding_disease.shape)\n",
    "print(average_embedding_no_disease.shape)\n",
    "print(average_embedding.shape)\n",
    "\n",
    "\n",
    "# 2. Prompt Template\n",
    "average_embedding_disease_template = np.mean(embeddings_disease_template, axis=0)\n",
    "average_embedding_no_disease_template = np.mean(embeddings_no_disease_template, axis=0)\n",
    "average_embedding_template = np.stack([average_embedding_no_disease_template,average_embedding_disease_template], axis=0)\n",
    "print(average_embedding_disease_template.shape)\n",
    "print(average_embedding_no_disease_template.shape)\n",
    "print(average_embedding_template.shape)\n",
    "\n",
    "# 3. Reports\n",
    "average_embedding_disease_report = np.mean(embeddings_disease_report, axis=0)\n",
    "average_embedding_no_disease_report = np.mean(embeddings_no_disease_report, axis=0)\n",
    "average_embedding_report = np.stack([average_embedding_no_disease_report,average_embedding_disease_report], axis=0)\n",
    "print(average_embedding_disease_report.shape)\n",
    "print(average_embedding_no_disease_report.shape)\n",
    "print(average_embedding_report.shape)\n"
   ]
  },
  {
   "cell_type": "code",
   "execution_count": 15,
   "metadata": {},
   "outputs": [],
   "source": [
    "# save average embeddings\n",
    "np.save(\"/mnt/data2/datasets_lfay/MedImageInsights/data/text_embeddings/average_embeddings_2_no_finding.npy\", average_embedding)\n",
    "np.save(\"/mnt/data2/datasets_lfay/MedImageInsights/data/text_embeddings/average_embeddings_2_no_finding_template.npy\", average_embedding_template)\n",
    "np.save(\"/mnt/data2/datasets_lfay/MedImageInsights/data/text_embeddings/average_embeddings_2_no_finding_report.npy\", average_embedding_report)"
   ]
  },
  {
   "cell_type": "code",
   "execution_count": 32,
   "metadata": {},
   "outputs": [
    {
     "data": {
      "image/png": "[encoded data removed]",
      "text/plain": [
       "<Figure size 500x500 with 1 Axes>"
      ]
     },
     "metadata": {},
     "output_type": "display_data"
    }
   ],
   "source": [
    "import numpy as np\n",
    "from sklearn.manifold import TSNE\n",
    "import matplotlib.pyplot as plt\n",
    "\n",
    "# Load and organize data\n",
    "embeddings = np.load(\"/mnt/data2/datasets_lfay/MedImageInsights/data/text_embeddings/embeddings_92_no_finding.npy\")\n",
    "embeddings_disease = embeddings[46:]\n",
    "embeddings_no_disease = embeddings[:46]\n",
    "average_embedding = np.load(\"/mnt/data2/datasets_lfay/MedImageInsights/data/text_embeddings/average_embeddings_2_no_finding.npy\")\n",
    "average_embedding_disease = average_embedding[0]\n",
    "average_embedding_no_disease = average_embedding[1].reshape(1, -1)\n",
    "\n",
    "# Add average embeddings to their respective groups\n",
    "embeddings_disease = np.concatenate([embeddings_disease, average_embedding_disease.reshape(1, -1)], axis=0)\n",
    "embeddings_no_disease = np.concatenate([embeddings_no_disease, average_embedding_no_disease], axis=0)\n",
    "\n",
    "# Combine data for t-SNE\n",
    "all_embeddings = np.vstack([embeddings_disease, embeddings_no_disease])\n",
    "tsne = TSNE(n_components=2, random_state=42, perplexity=40)\n",
    "all_embeddings_tsne = tsne.fit_transform(all_embeddings)\n",
    "\n",
    "# Split back for visualization\n",
    "embeddings_disease_tsne = all_embeddings_tsne[:len(embeddings_disease)]\n",
    "embeddings_no_disease_tsne = all_embeddings_tsne[len(embeddings_disease):]\n",
    "\n",
    "# Plot\n",
    "plt.figure(figsize=(5, 5))\n",
    "plt.scatter(embeddings_disease_tsne[:-1, 0], embeddings_disease_tsne[:-1, 1], label=\"Pneumonia\", s=10, color=\"C0\")\n",
    "plt.scatter(embeddings_no_disease_tsne[:-1, 0], embeddings_no_disease_tsne[:-1, 1], label=\"No Pneumonia\", s=10, color=\"C1\")\n",
    "plt.scatter(\n",
    "    embeddings_disease_tsne[-1, 0], embeddings_disease_tsne[-1, 1], \n",
    "    label=\"Average Pneumonia Embedding\", color=\"red\", s=50, edgecolors=\"black\"\n",
    ")\n",
    "plt.scatter(\n",
    "    embeddings_no_disease_tsne[-1, 0], embeddings_no_disease_tsne[-1, 1], \n",
    "    label=\"Average No Finding Embedding\", color=\"green\", s=50, edgecolors=\"black\"\n",
    ")\n",
    "plt.legend(loc=\"best\")\n",
    "plt.title(\"t-SNE Plot of Text Embeddings\")\n",
    "plt.show()\n"
   ]
  },
  {
   "cell_type": "code",
   "execution_count": 28,
   "metadata": {},
   "outputs": [
    {
     "data": {
      "image/png": "[encoded data removed]",
      "text/plain": [
       "<Figure size 500x500 with 1 Axes>"
      ]
     },
     "metadata": {},
     "output_type": "display_data"
    }
   ],
   "source": [
    "import numpy as np\n",
    "from sklearn.manifold import TSNE\n",
    "import matplotlib.pyplot as plt\n",
    "\n",
    "# Load and organize data\n",
    "embeddings = np.load(\"/mnt/data2/datasets_lfay/MedImageInsights/data/text_embeddings/embeddings_92_no_finding_template.npy\")\n",
    "embeddings_disease = embeddings[7:]\n",
    "embeddings_no_disease = embeddings[:6]\n",
    "average_embedding = np.load(\"/mnt/data2/datasets_lfay/MedImageInsights/data/text_embeddings/average_embeddings_2_no_finding_template.npy\")\n",
    "average_embedding_disease = average_embedding[0]\n",
    "average_embedding_no_disease = average_embedding[1].reshape(1, -1)\n",
    "\n",
    "# Add average embeddings to their respective groups\n",
    "embeddings_disease = np.concatenate([embeddings_disease, average_embedding_disease.reshape(1, -1)], axis=0)\n",
    "embeddings_no_disease = np.concatenate([embeddings_no_disease, average_embedding_no_disease], axis=0)\n",
    "\n",
    "# Combine data for t-SNE\n",
    "all_embeddings = np.vstack([embeddings_disease, embeddings_no_disease])\n",
    "tsne = TSNE(n_components=2, random_state=42, perplexity=2)\n",
    "all_embeddings_tsne = tsne.fit_transform(all_embeddings)\n",
    "\n",
    "# Split back for visualization\n",
    "embeddings_disease_tsne = all_embeddings_tsne[:len(embeddings_disease)]\n",
    "embeddings_no_disease_tsne = all_embeddings_tsne[len(embeddings_disease):]\n",
    "\n",
    "# Plot\n",
    "plt.figure(figsize=(5, 5))\n",
    "plt.scatter(embeddings_disease_tsne[:-1, 0], embeddings_disease_tsne[:-1, 1], label=\"Pneumonia\", s=10, color=\"C0\")\n",
    "plt.scatter(embeddings_no_disease_tsne[:-1, 0], embeddings_no_disease_tsne[:-1, 1], label=\"No Pneumonia\", s=10, color=\"C1\")\n",
    "plt.scatter(\n",
    "    embeddings_disease_tsne[-1, 0], embeddings_disease_tsne[-1, 1], \n",
    "    label=\"Average Pneumonia Embedding\", color=\"red\", s=50, edgecolors=\"black\"\n",
    ")\n",
    "plt.scatter(\n",
    "    embeddings_no_disease_tsne[-1, 0], embeddings_no_disease_tsne[-1, 1], \n",
    "    label=\"Average No Finding Embedding\", color=\"green\", s=50, edgecolors=\"black\"\n",
    ")\n",
    "plt.legend(loc=\"best\")\n",
    "plt.title(\"t-SNE Plot of Text Embeddings\")\n",
    "plt.show()\n"
   ]
  }
 ],
 "metadata": {
  "kernelspec": {
   "display_name": ".venv",
   "language": "python",
   "name": "python3"
  },
  "language_info": {
   "codemirror_mode": {
    "name": "ipython",
    "version": 3
   },
   "file_extension": ".py",
   "mimetype": "text/x-python",
   "name": "python",
   "nbconvert_exporter": "python",
   "pygments_lexer": "ipython3",
   "version": "3.8.19"
  }
 },
 "nbformat": 4,
 "nbformat_minor": 2
}
