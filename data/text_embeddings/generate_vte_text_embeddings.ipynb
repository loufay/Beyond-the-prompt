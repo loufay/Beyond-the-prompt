{
 "cells": [
  {
   "cell_type": "code",
   "execution_count": 1,
   "metadata": {},
   "outputs": [
    {
     "name": "stderr",
     "output_type": "stream",
     "text": [
      "/mnt/data2/datasets_lfay/MedImageInsights/.venv/lib/python3.8/site-packages/tqdm/auto.py:21: TqdmWarning: IProgress not found. Please update jupyter and ipywidgets. See https://ipywidgets.readthedocs.io/en/stable/user_install.html\n",
      "  from .autonotebook import tqdm as notebook_tqdm\n"
     ]
    }
   ],
   "source": [
    "import pandas as pd\n",
    "import sys\n",
    "import os\n",
    "import numpy as np\n",
    "import base64\n",
    "from sklearn.metrics.pairwise import cosine_similarity\n",
    "from PIL import Image\n",
    "import matplotlib.pyplot as plt\n",
    "\n",
    "sys.path.append(\"/mnt/data2/datasets_lfay/MedImageInsights\")\n",
    "from MedImageInsight.medimageinsightmodel import MedImageInsight\n",
    "sys.path.append(\"/mnt/data2/datasets_lfay/MedImageInsights/predictions\")\n",
    "from utils import read_image, zero_shot_prediction, extract_findings_and_impressions, create_wandb_run_name\n"
   ]
  },
  {
   "cell_type": "code",
   "execution_count": 2,
   "metadata": {},
   "outputs": [],
   "source": [
    "classes = [\"pneumonia\", \"no finding\"]\n",
    "views = [\"frontal\", \"lateral\"]\n",
    "\n",
    "# Prompt templates\n",
    "prompt_templates = [\n",
    "    \"\",\n",
    "    \"chest \",\n",
    "    \"x-ray \",\n",
    "    \"chest x-ray \",\n",
    "    \"chest x-ray anteroposterior \",\n",
    "    \"chest x-ray posteroanterior \"\n",
    "]\n"
   ]
  },
  {
   "cell_type": "code",
   "execution_count": 3,
   "metadata": {},
   "outputs": [],
   "source": [
    "# generate prompts for each class\n",
    "\n",
    "template_disease = [p+ \"Pneumonia\" for p in prompt_templates]\n",
    "template_no_disease = [p + \"No Pneumonia\" for p in prompt_templates]\n",
    "template_no_disease = [p + \"No Finding\" for p in prompt_templates]\n"
   ]
  },
  {
   "cell_type": "code",
   "execution_count": 4,
   "metadata": {},
   "outputs": [],
   "source": [
    "    diseases = [\n",
    "        'No Finding', 'Enlarged Cardiomediastinum', 'Cardiomegaly', 'Lung Opacity',\n",
    "        'Lung Lesion', 'Edema', 'Consolidation', 'Pneumonia', 'Atelectasis',\n",
    "        'Pneumothorax', 'Pleural Effusion', 'Pleural Other', 'Fracture', 'Support Devices'\n",
    "    ]"
   ]
  },
  {
   "cell_type": "code",
   "execution_count": 6,
   "metadata": {},
   "outputs": [],
   "source": [
    "PATH_TO_DATA = \"/mnt/data2/datasets_lfay/MedImageInsights/data\"\n",
    "read_path = PATH_TO_DATA+\"/MIMIC-v1.0-512/\"\n",
    "\n",
    "df_train = pd.read_csv(read_path + \"train.csv\")\n",
    "\n",
    "df_disease = df_train[df_train[\"Pneumonia\"] == 1]\n",
    "# single disease\n",
    "\n",
    "single_disease = diseases.copy()\n",
    "single_disease.remove(\"Pneumonia\")\n",
    "df_disease = df_train[(df_train[\"Pneumonia\"] == 1) & (df_train[single_disease] == 0).all(axis=1)]\n",
    "\n",
    "\n",
    "df_no_disease = df_train[df_train[\"Pneumonia\"] == 0]\n",
    "\n",
    "# embedding for no finding\n",
    "df_no_disease = df_train[df_train[\"No Finding\"] == 1]"
   ]
  },
  {
   "cell_type": "code",
   "execution_count": 7,
   "metadata": {},
   "outputs": [],
   "source": [
    "# Extract full report\n",
    "report_disease = df_disease[\"report\"].copy()\n",
    "report_disease = report_disease.dropna()\n",
    "report_disease = report_disease.sample(10, random_state=42).tolist()\n",
    "\n",
    "report_no_disease = df_no_disease[\"report\"].copy()\n",
    "report_no_disease = report_no_disease.dropna()\n",
    "report_no_disease = report_no_disease.sample(10, random_state=42).tolist()"
   ]
  },
  {
   "cell_type": "code",
   "execution_count": 8,
   "metadata": {},
   "outputs": [],
   "source": [
    "# Extract Findings \n",
    "findings_disease = df_disease.section_findings.copy()\n",
    "findings_disease = findings_disease.dropna().reset_index(drop=True)\n",
    "findings_disease = findings_disease.sample(10, random_state=42).tolist()\n",
    "\n",
    "findings_no_disease = df_no_disease.section_findings.copy()\n",
    "findings_no_disease = findings_no_disease.dropna().reset_index(drop=True)\n",
    "findings_no_disease = findings_no_disease.sample(10, random_state=42).tolist()"
   ]
  },
  {
   "cell_type": "code",
   "execution_count": 9,
   "metadata": {},
   "outputs": [],
   "source": [
    "# Extract Impression\n",
    "impression_disease = df_disease.section_impression.copy()\n",
    "impression_disease = impression_disease.dropna().reset_index(drop=True)\n",
    "impression_disease = impression_disease.sample(10, random_state=42).tolist()\n",
    "\n",
    "impression_no_disease = df_no_disease.section_impression.copy()\n",
    "impression_no_disease = impression_no_disease.dropna().reset_index(drop=True)\n",
    "impression_no_disease = impression_no_disease.sample(10, random_state=42).tolist()"
   ]
  },
  {
   "cell_type": "code",
   "execution_count": 10,
   "metadata": {},
   "outputs": [],
   "source": [
    "df_findings_impression_disease = df_disease[[\"section_findings\", \"section_impression\"]].copy()\n",
    "df_findings_impression_disease.dropna(inplace=True)\n",
    "\n",
    "findings_impression_disease = (\n",
    "    df_findings_impression_disease.section_findings.str.cat(\n",
    "        df_findings_impression_disease.section_impression, sep=\" \", na_rep=\"\"\n",
    "    )\n",
    "    .sample(10, random_state=42).tolist()\n",
    ")\n",
    "\n",
    "df_findings_impression_no_disease = df_no_disease[[\"section_findings\", \"section_impression\"]].copy()\n",
    "df_findings_impression_no_disease.dropna(inplace=True)\n",
    "\n",
    "findings_impression_no_disease = (\n",
    "    df_findings_impression_no_disease.section_findings.str.cat(\n",
    "        df_findings_impression_no_disease.section_impression, sep=\" \", na_rep=\"\"\n",
    "    )\n",
    "    .sample(10, random_state=42).tolist()\n",
    ")"
   ]
  },
  {
   "cell_type": "code",
   "execution_count": 11,
   "metadata": {},
   "outputs": [
    {
     "name": "stdout",
     "output_type": "stream",
     "text": [
      "46\n",
      "46\n"
     ]
    }
   ],
   "source": [
    "prompts_disease = template_disease + report_disease + findings_disease + impression_disease + findings_impression_disease\n",
    "prompts_no_disease = template_no_disease + report_no_disease + findings_no_disease + impression_no_disease + findings_impression_no_disease\n",
    "\n",
    "print (len(prompts_disease))\n",
    "print (len(prompts_no_disease))"
   ]
  },
  {
   "cell_type": "code",
   "execution_count": 13,
   "metadata": {},
   "outputs": [
    {
     "data": {
      "text/plain": [
       "['Pneumonia',\n",
       " 'chest Pneumonia',\n",
       " 'x-ray Pneumonia',\n",
       " 'chest x-ray Pneumonia',\n",
       " 'chest x-ray anteroposterior Pneumonia',\n",
       " 'chest x-ray posteroanterior Pneumonia',\n",
       " '                                 FINAL REPORT\\n PORTABLE AP CHEST X-RAY\\n \\n INDICATION:  Patient with left lower lobe pneumonia, PEA arrest, extubated,\\n rising white blood cell count despite treatment course for staph pneumonia.\\n \\n COMPARISON:  ___.\\n \\n FINDINGS:\\n \\n There has been a significant improvement of left lower lobe pneumonia.  There\\n are only some residual opacities at costodiaphragmatic sulcus.  There is no\\n pleural effusion or pneumothorax.  NG tube is in adequate position.  Right\\n jugular line has been removed.\\n \\n CONCLUSION:\\n \\n Significant improvement of left lower lobe pneumonia.\\n',\n",
       " '                                 FINAL REPORT\\n EXAMINATION:  CHEST (PA AND LAT)\\n \\n INDICATION:  ___M w/hx of cough for 5 days, fever, crackles in LLL, please eval\\n for pna  // ___M w/hx of cough for 5 days, fever, crackles in LLL, please eval\\n for pna\\n \\n TECHNIQUE:  Chest PA and lateral\\n \\n COMPARISON:  ___, ___, ___\\n \\n FINDINGS: \\n \\n Lung volumes are low.  The cardiac silhouette is borderline enlarged.  A\\n retrocardiac opacity is new since the prior examination, and in the\\n appropriate clinical context, is consistent with left lower lobe pneumonia. \\n Left basilar opacity is chronic and similar to the examination from ___.  A\\n small pleural effusion may be present.  Right infrahilar opacity is likely\\n representative of crowding of vascular structures given low lung volumes. \\n There is no pneumothorax.\\n \\n IMPRESSION: \\n \\n Left lower lobe pneumonia.\\n',\n",
       " '                                 FINAL REPORT\\n EXAMINATION:  Chest radiograph.\\n \\n INDICATION:  ___F with fever, cough.  Assess for infectious process.\\n \\n TECHNIQUE:  Chest PA and lateral\\n \\n COMPARISON:  Chest radiograph ___, ___.\\n \\n FINDINGS: \\n \\n Again seen are patchy ill-defined opacities in lung bases worrisome for\\n infection or aspiration.  Emphysematous changes of the upper lobes are again\\n noted.  No pleural effusion.  No pneumothorax or pulmonary edema.  The heart\\n is normal in size.  Mediastinal contour and hila are unremarkable.\\n \\n Limited assessment of the osseous structures are notable for diffuse\\n demineralization and loss of vertebral body height, unchanged since prior\\n examination.\\n \\n IMPRESSION: \\n \\n 1. Possible bibasilar infection or aspiration.\\n \\n 2. Emphysema with upper lobe predominance.\\n',\n",
       " \"                                 FINAL REPORT\\n CHEST RADIOGRAPH\\n \\n INDICATION: ___'s disease, COPD.  Evaluation for pneumonia.\\n \\n COMPARISON:  ___.\\n \\n FINDINGS:  As compared to the previous radiograph, the lung volumes have\\n increased, likely suggesting improved ventilation.  The current radiograph\\n shows no evidence of pulmonary edema.  Pneumonia not present.  Normal size of\\n the cardiac silhouette.  Normal hilar and mediastinal contours.\\n\",\n",
       " '                                 FINAL REPORT\\n INDICATION:  Fever and asthma.\\n \\n COMPARISON:  ___.\\n \\n FINDINGS:  PA and lateral radiographs of the chest demonstrate a focal\\n consolidation in the right upper lobe.  Heart size and mediastinal contours\\n are normal.  No pleural effusion or pneumothorax.\\n \\n IMPRESSION:  Right upper lobe pneumonia.  Recommend followup radiographs after\\n treatment to document resolution.\\n',\n",
       " '                                 FINAL REPORT\\n EXAMINATION:  CHEST (PORTABLE AP)CHEST (PORTABLE AP)\\n \\n INDICATION:  ___ year old man with fever cough leukocytosis, p/w chest pain  //\\n ?pna\\n \\n \\n \\n \\n \\n COMPARISON:  Chest radiographs since ___ most recently ___.\\n \\n IMPRESSION: \\n \\n There are no areas of clear abnormality in the lungs, but there are 2 which\\n could be subtle infection.  1 is a roughly 2 cm wide ring shadow projecting\\n lateral to the left hilus at the level of the third anterior interspace neck\\n could be a cavity. This region has been questionable on several prior chest\\n radiographs. I am not sure if it is real.\\n \\n The second it is a region of increased radiodensity projecting over the right\\n cardiophrenic sulcus. This is a region where mediastinal fat can simulate lung\\n abnormalities.\\n \\n Chest CT scanning would be definitive in assessing the lungs and detecting\\n infection.  Cardiomediastinal and hilar silhouettes and pleural surfaces are\\n normal.\\n \\n NOTIFICATION:  Dr. ___ reported the findings to ___ by\\n telephone on ___ at 2:14 PM,  minutes after discovery of the findings.\\n',\n",
       " '                                 FINAL REPORT\\n EXAMINATION:  Chest radiograph.\\n \\n INDICATION:  History: ___F with hypoxia  // eval for PNA\\n \\n TECHNIQUE:  Chest PA and lateral\\n \\n COMPARISON:  None available.\\n \\n FINDINGS: \\n \\n Subtle airspace opacities are noted at the bilateral lung bases, but more\\n prominently on the right, and may represent a focal pneumonia. There is no\\n evidence of pneumothorax, pleural effusion, or frank pulmonary edema. The\\n cardiomediastinal silhouette is within normal limits.\\n \\n IMPRESSION: \\n \\n Possible right lower lobe pneumonia.\\n',\n",
       " '                                 FINAL REPORT\\n SINGLE FRONTAL VIEW OF THE CHEST\\n \\n REASON FOR EXAM:  Pneumonia, emphysema, CHF, worsening hypoxia.\\n \\n Comparison is made with prior studies ___ ___ and chest x-___ ___.\\n \\n Cardiac size is normal.  Small bilateral pleural effusions, emphysema, and\\n bilateral lower lobe consolidations, larger on the right side are unchanged.\\n \\n IMPRESSION:  Stable multifocal pneumonia.\\n',\n",
       " '                                 FINAL REPORT\\n CHEST RADIOGRAPH\\n \\n HISTORY:  Fever and asthma exacerbation.\\n \\n COMPARISONS:  None available.\\n \\n TECHNIQUE:  Chest, AP upright portable.\\n \\n FINDINGS:  The lung volumes are low.  Within the limitations of technique, the\\n cardiac, mediastinal and hilar contours are probably within normal limits. \\n There is no definite pleural effusion or pneumothorax.  Heterogeneous\\n opacification involves each mid lung, greater on the right than left, with\\n areas of entirely spared lung.  There is no clear finding to suggest an\\n abnormal vasculature.  \\n \\n IMPRESSION:  Findings suggesting pneumonia.\\n',\n",
       " '                                 FINAL REPORT\\n EXAMINATION:  CHEST (PORTABLE AP)\\n \\n INDICATION:  ___ year old man with new afib and recently placed IR-guided\\n mediastinal drain  // ? acute cardiopulmonary process\\n \\n TECHNIQUE:  Plain film\\n \\n COMPARISON:  ___\\n \\n FINDINGS: \\n \\n Radiodense tubing projected over the right upper quadrant and right side of\\n the heart presumably represents new mediastinal drain.  The cardiac silhouette\\n is slightly larger than seen on the ___ film and there is a new\\n obscuration of the left hemidiaphragm related to overlying parenchymal\\n consolidation.  And gastric pull-through is visible at the right upper\\n mediastinal border. Tip of the Port-A-Cath tube is unchanged appear\\n \\n IMPRESSION: \\n \\n Increased left basilar and retrocardiac density which could be more\\n subsegmental atelectasis versus consolidation from pneumonia/ aspiration\\n pneumonia.\\n',\n",
       " 'FINDINGS: Bibasilar interstitial opacities are similar to multiple prior studies with decreased lung volumes causing bronchovascular crowding compared with the immediate prior study. There is no definite focal consolidation to suggest interval pneumonia. There is no pleural effusion, pneumothorax, or pulmonary edema. The cardiomediastinal silhouette is stable.',\n",
       " 'FINDINGS: Compared with the immediate prior radiograph, the right subclavian line, endotracheal tube, and enteric tube have been removed. The new tracheostomy ends 3.4 cm from the carina. New increased density at the right base may be due to atelectasis, however infectious pneumonia or acute aspiration cannot be excluded. There is no pneumothorax, pleural effusion, or pulmonary edema. The cardiomediastinal silhouette is within normal limits.',\n",
       " 'FINDINGS: Compared to the prior study there is increase in bilateral lower lobe opacities. In addition there is pulmonary vascular redistribution and increase in interstitial markings. There is probable bilateral small effusions. .',\n",
       " 'FINDINGS: Portable AP chest radiograph. Single pacer leads in stable position. Left basilar opacity with obscuration of the left hemidiaphragm has worsened since ___. Severe cardiomegaly is unchanged, but there is no interstitial edema. Bilateral pleural effusions are trace. There is no pneumothorax. Pneumoperitoneum is unchanged.',\n",
       " 'FINDINGS: Opacity in the right lower lobe is new from the prior exam and consistent with pneumonia. No pleural effusion, edema, or pneumothorax. Bilateral, symmetric calcified nodules in the upper lobes with associated mild upper lobe volume loss and hilar retraction are similar the prior exam, likely sequelae of prior granulomatous disease. The heart is normal in size. The mediastinum is not widened.',\n",
       " 'FINDINGS: Frontal and lateral radiographs of the chest show new opacities in the right mid lung consistent with pneumonia. The pulmonary vasculature is mildly engorged. Evaluation of the lung bases is limited due to low inspiratory lung volumes and a massive but stable hiatal hernia. The lung apices are well aerated without pneumothorax. Rightward deviation of the trachea is unchanged. The mediastinal and hilar contours are within normal limits and unchanged. The cardiac silhouette cannot be assessed. The thoracic spine is kyphotic with severe degenerative changes. Large, dense calcifications are noted in the bilateral breasts, unchanged from diagnostic mammogram of ___.',\n",
       " 'FINDINGS: Left-sided pacemaker device is noted with leads terminating in the right atrium and right ventricle, unchanged. Moderate cardiomegaly is re- demonstrated. There are low lung volumes which result in bronchovascular crowding. No overt pulmonary edema is identified. Retrocardiac opacity may reflect atelectasis but infection cannot be excluded. No definite large pleural effusion or pneumothorax is identified. There are no acute osseous abnormalities.',\n",
       " 'FINDINGS: Cardiac silhouette remains enlarged, likely reflecting a pericardial effusion as demonstrated on CT of ___. Marked volume loss in the right hemithorax is again demonstrated with inferior displacement of the right hilum and relatively geographically marginated opacities in the right mid and lower lung corresponding to known areas of post-radiation fibrosis and an accompanying pleural effusion, all essentially unchanged since the recent radiograph. Interval improvement in degree of pulmonary vascular congestion. No new or worsening opacities identified to suggest an acute pneumonia.',\n",
       " 'FINDINGS: Lungs are clear without focal consolidation. No pleural effusion or pneumothorax is seen. Cardiac and mediastinal silhouettes are unremarkable.',\n",
       " 'FINDINGS: Heart size is normal. The mediastinal and hilar contours are normal. The pulmonary vasculature is normal. Lung volumes are slightly low, which accentuates bronchovascular markings. Given that, the lungs appear clear without focal consolidation. No pleural effusion or pneumothorax is seen.',\n",
       " 'IMPRESSION: As compared to ___ radiograph, cardiomediastinal contours are stable, and lungs are clear, with no findings to suggest pneumonia.',\n",
       " 'IMPRESSION: Central pulmonary vascular congestion without frank edema. Subtle density in the right infrahilar region is improved compared to prior examination where there was pneumonia. Infectious etiology is not excluded given the correct clinical circumstance. A lateral view if possible may be helpful for further characterization.',\n",
       " 'IMPRESSION: Diffuse multifocal pneumonia, right worse than left, has progressed compared to ___ radiograph. Comparison is difficult between modalities, and the pneumonia may be stable or worse compared to CT chest from ___. RECOMMENDATION(S): Subsequent follow-up with conventional chest radiographs rather than CT.',\n",
       " 'IMPRESSION: No focal consolidation to suggest pneumonia.',\n",
       " 'IMPRESSION: New right lower lung pneumonia. NOTIFICATION: The findings were discussed with ___, M.D. by ___, M.D. on the telephone on ___ at 1:53 PM, 2 minutes after discovery of the findings.',\n",
       " 'IMPRESSION: Right lower lung pneumonia.',\n",
       " 'IMPRESSION: Possible micro nodules, most prominent in the left lower ___, ___ represent an indolent infection such as miliary tuberculosis or other chronic inflammatory condition. Further evaluation with non-contrast CT of the chest is recommended. NOTIFICATION: ___ discussed with ___ at ___ ___.',\n",
       " 'IMPRESSION: Redemonstration of multifocal pneumonia, worse in the left lower lobe and lingula. These findings were discussed via telephone by Dr. ___ with Dr. ___ at ___ on ___, upon discovery. As per this discussion, the patient was informed that he would likely be sent to the emergency department and admitted for treatment.',\n",
       " 'IMPRESSION: Probable left lower lobe pneumonia. If clinical concern consider oblique views for better evaluation. Results were conveyed via telephone to Dr. ___ by Dr. ___ on ___ at 3:00 p.m. within 10 minutes of observation of findings.',\n",
       " 'IMPRESSION: Multifocal pneumonia in the right lung. Limited exam due to portable AP technique.',\n",
       " 'FINDINGS: There are persistent bilateral airspace opacities, more confluent in the left mid lung. Aeration of the right lung appears to improved somewhat. Small left pleural effusion. No pneumothorax seen. IMPRESSION: Interval improvement in aeration of the right lung, persistent confluent opacity in the left mid lung suspicious for infection.',\n",
       " 'FINDINGS: Tracheostomy site is in appropriate position. End of NG tube is in the proximal stomach. Consider advancing 3-5 cm for better sitting. No interval change in the diffuse heterogeneous bilateral opacities with mild increase in size and density of the right lower lobe focal opacity concerning for pneumonia. Stable small bilateral pleural effusions and bibasilar atelectasis. Heart size, mediastinal contour and hila are normal. IMPRESSION: 1. Mild interval increase in right lower lobe pneumonia, likely aspiration. 2. No interval change in diffuse likely infectious etiology affecting both lungs. Results were conveyed via email by Dr.___ to Dr. ___ on ___.',\n",
       " 'FINDINGS: Cardiac and mediastinal silhouettes are stable. No definite focal consolidation is seen. There is no large pleural effusion or pneumothorax. IMPRESSION: No acute cardiopulmonary process. No focal consolidation to suggest pneumonia.',\n",
       " 'FINDINGS: The heart is normal in size. There is heterogeneous opacification in each mid to lower lung and each hilum is mildly enlarged. This is probably due to enlargement of pulmonary vessels in association with mild vascular congestion. Confluent opacification obscuring the left cardiac border suggests pneumonia in the lingula, although pneumonia might not be confined to this area. IMPRESSION: Findings suggest pneumonia in the appropriate, most well defined in the lingular region, with coinciding suspicion for mild vascular congestion.',\n",
       " 'FINDINGS: Ill-defined opacification of the right lung base may represent an early consolidation in the proper clinical setting. There is no pneumothorax, pulmonary edema, or pleural effusion. The cardiomediastinal silhouette is normal. IMPRESSION: POSSIBLE RIGHT LOWER LOBE PNEUMONIA.',\n",
       " 'FINDINGS: Frontal and lateral views of the chest are obtained. The cardiomediastinal silhouettes are stable. A left-sided Port-A-Cath is again seen, terminating in the distal SVC. Left-sided rib deformities are again seen. There is bibasilar atelectasis. No definite focal consolidation is seen. There is slight blunting of the left costophrenic angle which may be due to overlying soft tissues is without significant change since the prior study. IMPRESSION: No significant interval change. No definite focal consolidation to suggest pneumonia.',\n",
       " 'FINDINGS: No focal consolidation is seen. There is no pleural effusion or pneumothorax The cardiac and mediastinal silhouettes are unremarkable. IMPRESSION: No focal consolidation to suggest pneumonia.',\n",
       " 'FINDINGS: The lungs are clear bilaterally. Tiny nodular hyperdense foci scattered throughout may represent calcified granulomas. Cardiomediastinal and hilar contours are stable in appearance and within normal limits. There is no pleural effusion or pneumothorax. Osseous structures demonstrate no acute abnormality. IMPRESSION: No focal opacification to suggest pneumonia.',\n",
       " 'FINDINGS: Frontal and lateral views of the chest demonstrate somewhat suboptimal frontal evaluation due to obscuration of lung bases by the upper abdomen. Allowing for such, the lungs are clear, although low in volume. There is no pneumothorax, vascular congestion, or large effusion. Cardiomediastinal silhouette is within normal limits. IMPRESSION: No acute cardiopulmonary process such as pneumonia.',\n",
       " 'FINDINGS: Increased left lower lobe opacification is suggestive of infectious focus. The left heart border is not well-visualized. No pleural effusions.Right Port-A-Cath terminates in the right atrium. No pneumothorax. IMPRESSION: Left lower lobe and lingular pneumonia. NOTIFICATION: The findings were discussed with ___ ___, P.A. by ___ ___, M.D. on the telephone on ___ at 4:57 PM, 5 minutes after discovery of the findings.']"
      ]
     },
     "execution_count": 13,
     "metadata": {},
     "output_type": "execute_result"
    }
   ],
   "source": [
    "prompts_disease"
   ]
  },
  {
   "cell_type": "code",
   "execution_count": 14,
   "metadata": {},
   "outputs": [
    {
     "name": "stdout",
     "output_type": "stream",
     "text": [
      "Model loaded successfully on device: cuda\n"
     ]
    }
   ],
   "source": [
    "## 3. Initialize model\n",
    "classifier = MedImageInsight(\n",
    "    model_dir=\"/mnt/data2/datasets_lfay/MedImageInsights/MedImageInsight/2024.09.27\",\n",
    "    vision_model_name=\"medimageinsigt-v1.0.0.pt\",\n",
    "    language_model_name=\"language_model.pth\"\n",
    ")\n",
    "classifier.load_model()\n"
   ]
  },
  {
   "cell_type": "code",
   "execution_count": 15,
   "metadata": {},
   "outputs": [
    {
     "name": "stdout",
     "output_type": "stream",
     "text": [
      "(46, 1024)\n",
      "(46, 1024)\n",
      "(92, 1024)\n"
     ]
    }
   ],
   "source": [
    "embeddings_disease = classifier.encode(texts=prompts_disease)[\"text_embeddings\"]\n",
    "embeddings_no_disease = classifier.encode(texts=prompts_no_disease)[\"text_embeddings\"]\n",
    "embeddings = np.concatenate([embeddings_no_disease, embeddings_disease], axis=0)\n",
    "print(embeddings_disease.shape)\n",
    "print(embeddings_no_disease.shape)\n",
    "print(embeddings.shape)"
   ]
  },
  {
   "cell_type": "code",
   "execution_count": 16,
   "metadata": {},
   "outputs": [],
   "source": [
    "# save embeddings\n",
    "np.save(\"/mnt/data2/datasets_lfay/MedImageInsights/data/text_embeddings/embeddings_92_single_pneumonia_no_finding.npy\", embeddings)"
   ]
  },
  {
   "cell_type": "code",
   "execution_count": 17,
   "metadata": {},
   "outputs": [
    {
     "name": "stdout",
     "output_type": "stream",
     "text": [
      "(1024,)\n",
      "(1024,)\n",
      "(2, 1024)\n"
     ]
    }
   ],
   "source": [
    "# Step 2: Compute average embeddings for each class\n",
    "average_embedding_disease = np.mean(embeddings_disease, axis=0)\n",
    "average_embedding_no_disease = np.mean(embeddings_no_disease, axis=0)\n",
    "\n",
    "# concat embeddings\n",
    "average_embedding = np.stack([average_embedding_no_disease,average_embedding_disease], axis=0)\n",
    "print(average_embedding_disease.shape)\n",
    "print(average_embedding_no_disease.shape)\n",
    "print(average_embedding.shape)"
   ]
  },
  {
   "cell_type": "code",
   "execution_count": 18,
   "metadata": {},
   "outputs": [],
   "source": [
    "# save average embeddings\n",
    "np.save(\"/mnt/data2/datasets_lfay/MedImageInsights/data/text_embeddings/average_embeddings_2_single_pneumonia_no_finding.npy\", average_embedding)"
   ]
  },
  {
   "cell_type": "code",
   "execution_count": null,
   "metadata": {},
   "outputs": [
    {
     "data": {
      "image/png": "[encoded data removed]",
      "text/plain": [
       "<Figure size 500x500 with 1 Axes>"
      ]
     },
     "metadata": {},
     "output_type": "display_data"
    },
    {
     "ename": "",
     "evalue": "",
     "output_type": "error",
     "traceback": [
      "\u001b[1;31mThe Kernel crashed while executing code in the current cell or a previous cell. \n",
      "\u001b[1;31mPlease review the code in the cell(s) to identify a possible cause of the failure. \n",
      "\u001b[1;31mClick <a href='https://aka.ms/vscodeJupyterKernelCrash'>here</a> for more info. \n",
      "\u001b[1;31mView Jupyter <a href='command:jupyter.viewOutput'>log</a> for further details."
     ]
    }
   ],
   "source": [
    "import numpy as np\n",
    "from sklearn.manifold import TSNE\n",
    "import matplotlib.pyplot as plt\n",
    "\n",
    "# Load and organize data\n",
    "embeddings = np.load(\"/mnt/data2/datasets_lfay/MedImageInsights/data/text_embeddings/embeddings_92_single_pneumonia_no_finding.npy\")\n",
    "embeddings_disease = embeddings[46:]\n",
    "embeddings_no_disease = embeddings[:46]\n",
    "average_embedding = np.load(\"/mnt/data2/datasets_lfay/MedImageInsights/data/text_embeddings/average_embeddings_2_single_pneumonia_no_finding.npy\")\n",
    "average_embedding_disease = average_embedding[0]\n",
    "average_embedding_no_disease = average_embedding[1].reshape(1, -1)\n",
    "\n",
    "# Add average embeddings to their respective groups\n",
    "embeddings_disease = np.concatenate([embeddings_disease, average_embedding_disease.reshape(1, -1)], axis=0)\n",
    "embeddings_no_disease = np.concatenate([embeddings_no_disease, average_embedding_no_disease], axis=0)\n",
    "\n",
    "# Combine data for t-SNE\n",
    "all_embeddings = np.vstack([embeddings_disease, embeddings_no_disease])\n",
    "tsne = TSNE(n_components=2, random_state=42, perplexity=40)\n",
    "all_embeddings_tsne = tsne.fit_transform(all_embeddings)\n",
    "\n",
    "# Split back for visualization\n",
    "embeddings_disease_tsne = all_embeddings_tsne[:len(embeddings_disease)]\n",
    "embeddings_no_disease_tsne = all_embeddings_tsne[len(embeddings_disease):]\n",
    "\n",
    "# Plot\n",
    "plt.figure(figsize=(5, 5))\n",
    "plt.scatter(embeddings_disease_tsne[:-1, 0], embeddings_disease_tsne[:-1, 1], label=\"Pneumonia\", s=10, color=\"C0\")\n",
    "plt.scatter(embeddings_no_disease_tsne[:-1, 0], embeddings_no_disease_tsne[:-1, 1], label=\"No Pneumonia\", s=10, color=\"C1\")\n",
    "plt.scatter(\n",
    "    embeddings_disease_tsne[-1, 0], embeddings_disease_tsne[-1, 1], \n",
    "    label=\"Average Pneumonia Embedding\", color=\"red\", s=50, edgecolors=\"black\"\n",
    ")\n",
    "plt.scatter(\n",
    "    embeddings_no_disease_tsne[-1, 0], embeddings_no_disease_tsne[-1, 1], \n",
    "    label=\"Average No Finding Embedding\", color=\"green\", s=50, edgecolors=\"black\"\n",
    ")\n",
    "plt.legend(loc=\"best\")\n",
    "plt.title(\"t-SNE Plot of Text Embeddings\")\n",
    "plt.show()\n"
   ]
  }
 ],
 "metadata": {
  "kernelspec": {
   "display_name": ".venv",
   "language": "python",
   "name": "python3"
  },
  "language_info": {
   "codemirror_mode": {
    "name": "ipython",
    "version": 3
   },
   "file_extension": ".py",
   "mimetype": "text/x-python",
   "name": "python",
   "nbconvert_exporter": "python",
   "pygments_lexer": "ipython3",
   "version": "3.8.19"
  }
 },
 "nbformat": 4,
 "nbformat_minor": 2
}
