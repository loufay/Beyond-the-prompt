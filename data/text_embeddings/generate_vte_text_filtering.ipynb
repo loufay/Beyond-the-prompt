{
 "cells": [
  {
   "cell_type": "code",
   "execution_count": 15,
   "metadata": {},
   "outputs": [],
   "source": [
    "import pandas as pd\n",
    "import sys\n",
    "import os\n",
    "import numpy as np\n",
    "import base64\n",
    "from sklearn.metrics.pairwise import cosine_similarity\n",
    "from PIL import Image\n",
    "import matplotlib.pyplot as plt\n",
    "\n",
    "sys.path.append(\"/mnt/data2/datasets_lfay/MedImageInsights\")\n",
    "from MedImageInsight.medimageinsightmodel import MedImageInsight\n",
    "sys.path.append(\"/mnt/data2/datasets_lfay/MedImageInsights/predictions\")\n",
    "from utils import read_image, zero_shot_prediction, extract_findings_and_impressions, create_wandb_run_name, balance_dataset"
   ]
  },
  {
   "cell_type": "markdown",
   "metadata": {},
   "source": [
    "### Prompt shuffeling"
   ]
  },
  {
   "cell_type": "code",
   "execution_count": 16,
   "metadata": {},
   "outputs": [
    {
     "name": "stdout",
     "output_type": "stream",
     "text": [
      "1001\n",
      "49\n",
      "1001\n"
     ]
    }
   ],
   "source": [
    "prompt_items = [\"chest\", \"x-ray\", \"anteroposterior\"]\n",
    "\n",
    "# create random prompts by shuffling the prompt items. The word \"Pneumonia\" is always included in the prompt, positioned randomly\n",
    "templates_pneumonia = [\"Pneumonia\"]\n",
    "for i in range(1000):\n",
    "    # select random amount of prompt items\n",
    "    n = np.random.randint(1, 4)\n",
    "    prompt = np.random.choice(prompt_items, n, replace=False)\n",
    "    # add \"Pneumonia\" to the prompt\n",
    "    prompt = np.insert(prompt, np.random.randint(0, n+1), \"Pneumonia\")\n",
    "    prompt = \" \".join(prompt)\n",
    "    templates_pneumonia.append(prompt)\n",
    "\n",
    "print(len(templates_pneumonia))\n",
    "print(len(set(templates_pneumonia)))\n",
    "\n",
    "templates_no_finding = [\"No Finding\"]\n",
    "for i in range(1000):\n",
    "    # select random amount of prompt items\n",
    "    n = np.random.randint(1, 4)\n",
    "    prompt = np.random.choice(prompt_items, n, replace=False)\n",
    "    # add \"Pneumonia\" to the prompt\n",
    "    prompt = np.insert(prompt, np.random.randint(0, n+1), \"No Finding\")\n",
    "    prompt = \" \".join(prompt)\n",
    "    templates_no_finding.append(prompt)\n",
    "\n",
    "print(len(templates_no_finding))\n"
   ]
  },
  {
   "cell_type": "code",
   "execution_count": 17,
   "metadata": {},
   "outputs": [],
   "source": [
    "prompts_disease = list(set(templates_pneumonia))\n",
    "prompts_no_disease = list(set(templates_no_finding))"
   ]
  },
  {
   "cell_type": "code",
   "execution_count": 18,
   "metadata": {},
   "outputs": [
    {
     "name": "stdout",
     "output_type": "stream",
     "text": [
      "Model loaded successfully on device: cuda\n"
     ]
    }
   ],
   "source": [
    "classifier = MedImageInsight(\n",
    "    model_dir=\"/mnt/data2/datasets_lfay/MedImageInsights/MedImageInsight/2024.09.27\",\n",
    "    vision_model_name=\"medimageinsigt-v1.0.0.pt\",\n",
    "    language_model_name=\"language_model.pth\"\n",
    ")\n",
    "classifier.load_model()"
   ]
  },
  {
   "cell_type": "code",
   "execution_count": 19,
   "metadata": {},
   "outputs": [
    {
     "name": "stdout",
     "output_type": "stream",
     "text": [
      "(49, 1024)\n",
      "(49, 1024)\n"
     ]
    }
   ],
   "source": [
    "embeddings_disease = classifier.encode(texts=prompts_disease)[\"text_embeddings\"]\n",
    "embeddings_no_disease = classifier.encode(texts=prompts_no_disease)[\"text_embeddings\"]\n",
    "\n",
    "print(embeddings_disease.shape)\n",
    "print(embeddings_no_disease.shape)"
   ]
  },
  {
   "cell_type": "code",
   "execution_count": 20,
   "metadata": {},
   "outputs": [
    {
     "name": "stdout",
     "output_type": "stream",
     "text": [
      "MIMIC\n"
     ]
    }
   ],
   "source": [
    "dataset = \"MIMIC\"\n",
    "if dataset ==\"MIMIC\":\n",
    "    read_path = \"/mnt/data2/datasets_lfay/MedImageInsights/data/MIMIC-v1.0-512\"\n",
    "elif dataset == \"CheXpert\":\n",
    "    read_path = \"/mnt/data2/datasets_lfay/MedImageInsights/data/CheXpert-v1.0-512\"\n",
    "elif dataset == \"VinDr\":\n",
    "    read_path = \"/mnt/data2/datasets_lfay/MedImageInsights/data/vindr-pcxr\"\n",
    "\n",
    "df_train = pd.read_csv(read_path + \"/train.csv\")\n",
    "df_train = df_train[(df_train[\"No Finding\"] == 1) | (df_train[\"Pneumonia\"] == 1)]\n",
    "df_train = balance_dataset(df_train, \"Pneumonia\", 1, True)\n",
    "len(df_train)\n",
    "print(dataset)"
   ]
  },
  {
   "cell_type": "code",
   "execution_count": 21,
   "metadata": {},
   "outputs": [
    {
     "name": "stdout",
     "output_type": "stream",
     "text": [
      "372\n",
      "372\n",
      "(372, 1024)\n",
      "(372, 1024)\n"
     ]
    }
   ],
   "source": [
    "df_disease = df_train[df_train.Pneumonia==1]\n",
    "print(len(df_disease))\n",
    "df_no_disease = df_train[df_train.Pneumonia==0]\n",
    "print(len(df_no_disease))\n",
    "\n",
    "# get embeddings for the images from the last 1024 columns of df_train\n",
    "image_embeddings_disease = df_disease.iloc[:, -1024:].values\n",
    "image_embeddings_no_disease = df_no_disease.iloc[:, -1024:].values\n",
    "\n",
    "print(image_embeddings_disease.shape)\n",
    "print(image_embeddings_no_disease.shape)\n"
   ]
  },
  {
   "cell_type": "code",
   "execution_count": 22,
   "metadata": {},
   "outputs": [
    {
     "name": "stdout",
     "output_type": "stream",
     "text": [
      "(372, 49)\n",
      "(372, 49)\n",
      "(372, 5)\n",
      "(372, 5)\n"
     ]
    }
   ],
   "source": [
    "# compute cosine similarity between each image embedding and each text embedding\n",
    "cosine_similarities_disease = cosine_similarity(image_embeddings_disease, embeddings_disease)\n",
    "cosine_similarities_no_disease = cosine_similarity(image_embeddings_no_disease, embeddings_no_disease)\n",
    "\n",
    "print(cosine_similarities_disease.shape)\n",
    "print(cosine_similarities_no_disease.shape)\n",
    "\n",
    "# get the overall top k most similar texts for each image\n",
    "k = 5\n",
    "top_k_disease = np.argsort(cosine_similarities_disease, axis=1)[:, -k:][:, ::-1]\n",
    "top_k_no_disease = np.argsort(cosine_similarities_no_disease, axis=1)[:, -k:][:, ::-1]\n",
    "\n",
    "print(top_k_disease.shape)\n",
    "print(top_k_no_disease.shape)\n"
   ]
  },
  {
   "cell_type": "code",
   "execution_count": 23,
   "metadata": {},
   "outputs": [
    {
     "name": "stdout",
     "output_type": "stream",
     "text": [
      "[10 30 42 11 27 37  0 32 26 46  6  9 21  1 40 22  8  2 12 17]\n",
      "[17 46 31 37  6 34 39 33 13 20 45 25 23  4  1 14 12 48 27]\n"
     ]
    }
   ],
   "source": [
    "unique_k_disease, counts_k_disease = np.unique(top_k_disease, return_counts=True)\n",
    "unique_k_no_disease, counts_k_no_disease = np.unique(top_k_no_disease, return_counts=True)\n",
    "\n",
    "# Sort by counts in descending order\n",
    "sorted_k_disease = np.argsort(-counts_k_disease)  # Negative sign for descending sort\n",
    "sorted_k_no_disease = np.argsort(-counts_k_no_disease)  # Negative sign for descending sort\n",
    "\n",
    "sorted_values_k_disease = unique_k_disease[sorted_k_disease]\n",
    "sorted_counts_k_disease = counts_k_disease[sorted_k_disease]\n",
    "\n",
    "sorted_values_k_no_disease = unique_k_no_disease[sorted_k_no_disease]\n",
    "sorted_counts_k_no_disease = counts_k_no_disease[sorted_k_no_disease]\n",
    "\n",
    "print(sorted_values_k_disease)\n",
    "print(sorted_values_k_no_disease)\n"
   ]
  },
  {
   "cell_type": "code",
   "execution_count": 24,
   "metadata": {},
   "outputs": [
    {
     "name": "stdout",
     "output_type": "stream",
     "text": [
      "['x-ray Pneumonia anteroposterior chest', 'x-ray chest Pneumonia anteroposterior', 'x-ray chest anteroposterior Pneumonia', 'x-ray anteroposterior chest Pneumonia', 'x-ray Pneumonia chest anteroposterior', 'x-ray anteroposterior Pneumonia chest', 'chest Pneumonia x-ray anteroposterior', 'Pneumonia x-ray chest anteroposterior', 'chest x-ray Pneumonia anteroposterior', 'Pneumonia x-ray anteroposterior chest']\n",
      "['anteroposterior No Finding chest', 'x-ray anteroposterior No Finding chest', 'x-ray No Finding anteroposterior chest', 'No Finding chest anteroposterior x-ray', 'anteroposterior chest No Finding', 'No Finding anteroposterior x-ray', 'No Finding anteroposterior chest x-ray', 'No Finding anteroposterior', 'x-ray anteroposterior chest No Finding', 'chest anteroposterior No Finding']\n"
     ]
    }
   ],
   "source": [
    "# extract elements from the list of prompts at index sorted_values[:10]\n",
    "top_k_texts_disease=[prompts_disease[i] for i in sorted_values_k_disease[:10]]\n",
    "top_k_texts_no_disease=[prompts_no_disease[i] for i in sorted_values_k_no_disease[:10]]\n",
    "\n",
    "print(top_k_texts_disease)\n",
    "print(top_k_texts_no_disease)"
   ]
  },
  {
   "cell_type": "code",
   "execution_count": 25,
   "metadata": {},
   "outputs": [
    {
     "name": "stdout",
     "output_type": "stream",
     "text": [
      "x-ray Pneumonia anteroposterior chest\n",
      "x-ray chest Pneumonia anteroposterior\n",
      "x-ray chest anteroposterior Pneumonia\n",
      "x-ray anteroposterior chest Pneumonia\n",
      "x-ray Pneumonia chest anteroposterior\n",
      "x-ray anteroposterior Pneumonia chest\n",
      "chest Pneumonia x-ray anteroposterior\n",
      "Pneumonia x-ray chest anteroposterior\n",
      "chest x-ray Pneumonia anteroposterior\n",
      "Pneumonia x-ray anteroposterior chest\n",
      "************************************************************\n",
      "anteroposterior No Finding chest\n",
      "x-ray anteroposterior No Finding chest\n",
      "x-ray No Finding anteroposterior chest\n",
      "No Finding chest anteroposterior x-ray\n",
      "anteroposterior chest No Finding\n",
      "No Finding anteroposterior x-ray\n",
      "No Finding anteroposterior chest x-ray\n",
      "No Finding anteroposterior\n",
      "x-ray anteroposterior chest No Finding\n",
      "chest anteroposterior No Finding\n",
      "************************************************************\n"
     ]
    }
   ],
   "source": [
    "[print(i) for i in top_k_texts_disease]\n",
    "print(\"***\"*20)\n",
    "[print(i) for i in top_k_texts_no_disease]\n",
    "print(\"***\"*20)"
   ]
  },
  {
   "cell_type": "code",
   "execution_count": 26,
   "metadata": {},
   "outputs": [
    {
     "name": "stdout",
     "output_type": "stream",
     "text": [
      "(10, 1024)\n",
      "(10, 1024)\n"
     ]
    }
   ],
   "source": [
    "# Create text embeddings for the top k texts\n",
    "\n",
    "embeddings_top_k_disease = classifier.encode(texts=top_k_texts_disease)[\"text_embeddings\"]\n",
    "embeddings_top_k_no_disease = classifier.encode(texts=top_k_texts_no_disease)[\"text_embeddings\"]\n",
    "\n",
    "print(embeddings_top_k_disease.shape)\n",
    "print(embeddings_top_k_no_disease.shape)"
   ]
  },
  {
   "cell_type": "code",
   "execution_count": 27,
   "metadata": {},
   "outputs": [
    {
     "name": "stdout",
     "output_type": "stream",
     "text": [
      "(1024,)\n",
      "(1024,)\n",
      "(2, 1024)\n"
     ]
    }
   ],
   "source": [
    "# genearte averaged embeddings for the top k texts\n",
    "average_embeddings_top_k_disease = np.mean(embeddings_top_k_disease, axis=0)\n",
    "average_embeddings_top_k_no_disease = np.mean(embeddings_top_k_no_disease, axis=0)\n",
    "\n",
    "print(average_embeddings_top_k_disease.shape)\n",
    "print(average_embeddings_top_k_no_disease.shape)\n",
    "\n",
    "averaged_embeddings = np.vstack([average_embeddings_top_k_no_disease, average_embeddings_top_k_disease])\n",
    "print(averaged_embeddings.shape)"
   ]
  },
  {
   "cell_type": "code",
   "execution_count": 28,
   "metadata": {},
   "outputs": [],
   "source": [
    "np.save(\"/mnt/data2/datasets_lfay/MedImageInsights/data/text_embeddings\"+\"/\"+dataset+\"/filtered_averaged_embeddings_\"+dataset+\".npy\", averaged_embeddings)"
   ]
  }
 ],
 "metadata": {
  "kernelspec": {
   "display_name": ".venv",
   "language": "python",
   "name": "python3"
  },
  "language_info": {
   "codemirror_mode": {
    "name": "ipython",
    "version": 3
   },
   "file_extension": ".py",
   "mimetype": "text/x-python",
   "name": "python",
   "nbconvert_exporter": "python",
   "pygments_lexer": "ipython3",
   "version": "3.8.19"
  }
 },
 "nbformat": 4,
 "nbformat_minor": 2
}
