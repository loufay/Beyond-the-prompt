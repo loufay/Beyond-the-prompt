{
 "cells": [
  {
   "cell_type": "code",
   "execution_count": 1,
   "metadata": {},
   "outputs": [
    {
     "name": "stderr",
     "output_type": "stream",
     "text": [
      "/mnt/data2/datasets_lfay/MedImageInsights/.venv/lib/python3.8/site-packages/tqdm/auto.py:21: TqdmWarning: IProgress not found. Please update jupyter and ipywidgets. See https://ipywidgets.readthedocs.io/en/stable/user_install.html\n",
      "  from .autonotebook import tqdm as notebook_tqdm\n"
     ]
    }
   ],
   "source": [
    "import pandas as pd\n",
    "import sys\n",
    "import os\n",
    "import numpy as np\n",
    "import base64\n",
    "from sklearn.metrics.pairwise import cosine_similarity\n",
    "from PIL import Image\n",
    "import matplotlib.pyplot as plt\n",
    "\n",
    "sys.path.append(\"/mnt/data2/datasets_lfay/MedImageInsights\")\n",
    "from MedImageInsight.medimageinsightmodel import MedImageInsight\n",
    "sys.path.append(\"/mnt/data2/datasets_lfay/MedImageInsights/predictions\")\n",
    "from utils import read_image, zero_shot_prediction, extract_findings_and_impressions, create_wandb_run_name\n"
   ]
  },
  {
   "cell_type": "code",
   "execution_count": 2,
   "metadata": {},
   "outputs": [
    {
     "ename": "",
     "evalue": "",
     "output_type": "error",
     "traceback": [
      "\u001b[1;31mnotebook controller is DISPOSED. \n",
      "\u001b[1;31mView Jupyter <a href='command:jupyter.viewOutput'>log</a> for further details."
     ]
    }
   ],
   "source": [
    "\n",
    "# Prompt templates\n",
    "prompt_templates = [\n",
    "    \"\",\n",
    "    \"chest \",\n",
    "    \"x-ray \",\n",
    "    \"chest x-ray \",\n",
    "    \"chest x-ray anteroposterior \",\n",
    "    \"chest x-ray posteroanterior \"\n",
    "]\n"
   ]
  },
  {
   "cell_type": "code",
   "execution_count": 3,
   "metadata": {},
   "outputs": [
    {
     "ename": "",
     "evalue": "",
     "output_type": "error",
     "traceback": [
      "\u001b[1;31mnotebook controller is DISPOSED. \n",
      "\u001b[1;31mView Jupyter <a href='command:jupyter.viewOutput'>log</a> for further details."
     ]
    }
   ],
   "source": [
    "# generate prompts for each class\n",
    "template_disease = [p+ \"Pneumonia\" for p in prompt_templates]\n",
    "template_no_disease = [p + \"No Finding\" for p in prompt_templates]"
   ]
  },
  {
   "cell_type": "markdown",
   "metadata": {},
   "source": [
    "### Prompt shuffeling"
   ]
  },
  {
   "cell_type": "code",
   "execution_count": 4,
   "metadata": {},
   "outputs": [
    {
     "name": "stdout",
     "output_type": "stream",
     "text": [
      "1001\n",
      "49\n",
      "1001\n"
     ]
    },
    {
     "ename": "",
     "evalue": "",
     "output_type": "error",
     "traceback": [
      "\u001b[1;31mnotebook controller is DISPOSED. \n",
      "\u001b[1;31mView Jupyter <a href='command:jupyter.viewOutput'>log</a> for further details."
     ]
    }
   ],
   "source": [
    "prompt_items = [\"chest\", \"x-ray\", \"anteroposterior\"]\n",
    "\n",
    "# create random prompts by shuffling the prompt items. The word \"Pneumonia\" is always included in the prompt, positioned randomly\n",
    "templates_pneumonia = [\"Pneumonia\"]\n",
    "for i in range(1000):\n",
    "    # select random amount of prompt items\n",
    "    n = np.random.randint(1, 4)\n",
    "    prompt = np.random.choice(prompt_items, n, replace=False)\n",
    "    # add \"Pneumonia\" to the prompt\n",
    "    prompt = np.insert(prompt, np.random.randint(0, n+1), \"Pneumonia\")\n",
    "    prompt = \" \".join(prompt)\n",
    "    templates_pneumonia.append(prompt)\n",
    "\n",
    "print(len(templates_pneumonia))\n",
    "print(len(set(templates_pneumonia)))\n",
    "\n",
    "templates_no_finding = [\"No Finding\"]\n",
    "for i in range(1000):\n",
    "    # select random amount of prompt items\n",
    "    n = np.random.randint(1, 4)\n",
    "    prompt = np.random.choice(prompt_items, n, replace=False)\n",
    "    # add \"Pneumonia\" to the prompt\n",
    "    prompt = np.insert(prompt, np.random.randint(0, n+1), \"No Finding\")\n",
    "    prompt = \" \".join(prompt)\n",
    "    templates_no_finding.append(prompt)\n",
    "\n",
    "print(len(templates_no_finding))\n"
   ]
  },
  {
   "cell_type": "code",
   "execution_count": 5,
   "metadata": {},
   "outputs": [
    {
     "ename": "",
     "evalue": "",
     "output_type": "error",
     "traceback": [
      "\u001b[1;31mnotebook controller is DISPOSED. \n",
      "\u001b[1;31mView Jupyter <a href='command:jupyter.viewOutput'>log</a> for further details."
     ]
    }
   ],
   "source": [
    "prompts_disease = list(set(templates_pneumonia))\n",
    "prompts_no_disease = list(set(templates_no_finding))"
   ]
  },
  {
   "cell_type": "code",
   "execution_count": 2,
   "metadata": {},
   "outputs": [
    {
     "name": "stdout",
     "output_type": "stream",
     "text": [
      "Model loaded successfully on device: cuda\n"
     ]
    }
   ],
   "source": [
    "classifier = MedImageInsight(\n",
    "    model_dir=\"/mnt/data2/datasets_lfay/MedImageInsights/MedImageInsight/2024.09.27\",\n",
    "    vision_model_name=\"medimageinsigt-v1.0.0.pt\",\n",
    "    language_model_name=\"language_model.pth\"\n",
    ")\n",
    "classifier.load_model()"
   ]
  },
  {
   "cell_type": "code",
   "execution_count": 10,
   "metadata": {},
   "outputs": [
    {
     "ename": "",
     "evalue": "",
     "output_type": "error",
     "traceback": [
      "\u001b[1;31mnotebook controller is DISPOSED. \n",
      "\u001b[1;31mView Jupyter <a href='command:jupyter.viewOutput'>log</a> for further details."
     ]
    }
   ],
   "source": [
    "embeddings_disease = classifier.encode(texts=prompts_disease)[\"text_embeddings\"]\n",
    "embeddings_no_disease = classifier.encode(texts=prompts_no_disease)[\"text_embeddings\"]\n",
    "\n",
    "print(embeddings_disease.shape)\n",
    "print(embeddings_no_disease.shape)"
   ]
  },
  {
   "cell_type": "code",
   "execution_count": 14,
   "metadata": {},
   "outputs": [
    {
     "name": "stdout",
     "output_type": "stream",
     "text": [
      "(1024,)\n",
      "(1024,)\n",
      "(2, 1024)\n"
     ]
    },
    {
     "ename": "",
     "evalue": "",
     "output_type": "error",
     "traceback": [
      "\u001b[1;31mnotebook controller is DISPOSED. \n",
      "\u001b[1;31mView Jupyter <a href='command:jupyter.viewOutput'>log</a> for further details."
     ]
    }
   ],
   "source": [
    "# Compute average\n",
    "average_embedding_disease = np.mean(embeddings_disease, axis=0)\n",
    "average_embedding_no_disease = np.mean(embeddings_no_disease, axis=0)\n",
    "averaged_embeddings_shuffled = np.vstack([average_embedding_no_disease, average_embedding_disease])\n",
    "\n",
    "print(average_embedding_disease.shape)\n",
    "print(average_embedding_no_disease.shape)\n",
    "print(averaged_embeddings_shuffled.shape)"
   ]
  },
  {
   "cell_type": "code",
   "execution_count": 15,
   "metadata": {},
   "outputs": [
    {
     "ename": "",
     "evalue": "",
     "output_type": "error",
     "traceback": [
      "\u001b[1;31mnotebook controller is DISPOSED. \n",
      "\u001b[1;31mView Jupyter <a href='command:jupyter.viewOutput'>log</a> for further details."
     ]
    }
   ],
   "source": [
    "# Save shuffeled average embeddings\n",
    "\n",
    "np.save(\"/mnt/data2/datasets_lfay/MedImageInsights/data/text_embeddings/shuffled/averaged_embeddings_shuffled_templates.npy\", averaged_embeddings_shuffled)"
   ]
  },
  {
   "cell_type": "code",
   "execution_count": 36,
   "metadata": {},
   "outputs": [
    {
     "data": {
      "image/png": "[encoded data removed]",
      "text/plain": [
       "<Figure size 500x500 with 1 Axes>"
      ]
     },
     "metadata": {},
     "output_type": "display_data"
    },
    {
     "ename": "",
     "evalue": "",
     "output_type": "error",
     "traceback": [
      "\u001b[1;31mnotebook controller is DISPOSED. \n",
      "\u001b[1;31mView Jupyter <a href='command:jupyter.viewOutput'>log</a> for further details."
     ]
    }
   ],
   "source": [
    "# Create tsne scatter plot of embeddings colored by class\n",
    "from sklearn.manifold import TSNE\n",
    "tsne = TSNE(n_components=2, random_state=0)\n",
    "\n",
    "embeddings_disease = np.vstack([embeddings_disease, average_embedding_disease])\n",
    "embeddings_no_disease = np.vstack([embeddings_no_disease, average_embedding_no_disease])\n",
    "\n",
    "all_embeddings = np.vstack([embeddings_disease, embeddings_no_disease])\n",
    "\n",
    "all_embeddings_tsne = tsne.fit_transform(all_embeddings)\n",
    "\n",
    "\n",
    "embeddings_disease_tsne = all_embeddings_tsne[:len(embeddings_disease)]\n",
    "embeddings_no_disease_tsne = all_embeddings_tsne[len(embeddings_disease):]\n",
    "\n",
    "# Plot\n",
    "plt.figure(figsize=(5, 5))\n",
    "plt.scatter(embeddings_disease_tsne[:-1, 0], embeddings_disease_tsne[:-1, 1], label=\"Pneumonia\", s=10, color=\"C0\")\n",
    "plt.scatter(embeddings_no_disease_tsne[:-1, 0], embeddings_no_disease_tsne[:-1, 1], label=\"No Pneumonia\", s=10, color=\"C1\")\n",
    "plt.scatter(\n",
    "    embeddings_disease_tsne[-1, 0], embeddings_disease_tsne[-1, 1], \n",
    "    label=\"Average Pneumonia Embedding\", color=\"red\", s=50, edgecolors=\"black\"\n",
    ")\n",
    "plt.scatter(\n",
    "    embeddings_no_disease_tsne[-1, 0], embeddings_no_disease_tsne[-1, 1], \n",
    "    label=\"Average No Finding Embedding\", color=\"green\", s=50, edgecolors=\"black\"\n",
    ")\n",
    "plt.legend(loc=\"best\")\n",
    "plt.title(\"t-SNE Plot of Text Embeddings\")\n",
    "plt.show()"
   ]
  },
  {
   "cell_type": "markdown",
   "metadata": {},
   "source": [
    "### Promot shuffling + fixed label (last)"
   ]
  },
  {
   "cell_type": "code",
   "execution_count": 36,
   "metadata": {},
   "outputs": [
    {
     "name": "stdout",
     "output_type": "stream",
     "text": [
      "101\n",
      "16\n",
      "101\n",
      "16\n",
      "(16, 1024)\n",
      "(16, 1024)\n",
      "(2, 1024)\n"
     ]
    }
   ],
   "source": [
    "prompt_items = [\"chest\", \"x-ray\", \"anteroposterior\"]\n",
    "\n",
    "# create random prompts by shuffling the prompt items. The word \"Pneumonia\" is always included in the prompt, positioned randomly\n",
    "templates_pneumonia = [\"Pneumonia\"]\n",
    "for i in range(100):\n",
    "    # select random amount of prompt items\n",
    "    n = np.random.randint(1, 4)\n",
    "    prompt = np.random.choice(prompt_items, n, replace=False).tolist()\n",
    "    prompt.append(\"Pneumonia\")\n",
    "    # add \"Pneumonia\" to the prompt\n",
    "    prompts = \" \".join(prompt)\n",
    "\n",
    "    templates_pneumonia.append(prompts)\n",
    "    \n",
    "print(len(templates_pneumonia))\n",
    "print(len(set(templates_pneumonia)))\n",
    "\n",
    "templates_no_finding = [\"No Finding\"]\n",
    "for i in range(100):\n",
    "    # select random amount of prompt items\n",
    "    n = np.random.randint(1, 4)\n",
    "    prompt = np.random.choice(prompt_items, n, replace=False).tolist()\n",
    "    prompt.append(\"No Finding\")\n",
    "    # add \"Pneumonia\" to the prompt\n",
    "    prompts = \" \".join(prompt)\n",
    "\n",
    "    templates_no_finding.append(prompts)\n",
    "\n",
    "print(len(templates_no_finding))\n",
    "print(len(set(templates_no_finding)))\n",
    "\n",
    "prompts_disease = list(set(templates_pneumonia))\n",
    "prompts_no_disease = list(set(templates_no_finding))\n",
    "\n",
    "embeddings_disease = classifier.encode(texts=prompts_disease)[\"text_embeddings\"]\n",
    "embeddings_no_disease = classifier.encode(texts=prompts_no_disease)[\"text_embeddings\"]\n",
    "\n",
    "print(embeddings_disease.shape)\n",
    "print(embeddings_no_disease.shape)\n",
    "\n",
    "# Compute average\n",
    "average_embedding_disease = np.mean(embeddings_disease, axis=0)\n",
    "average_embedding_no_disease = np.mean(embeddings_no_disease, axis=0)\n",
    "\n",
    "averaged_embeddings_shuffled = np.stack([average_embedding_no_disease, average_embedding_disease], axis=0)\n",
    "print(averaged_embeddings_shuffled.shape)\n",
    "\n",
    "# Save shuffeled average embeddings\n",
    "np.save(\"/mnt/data2/datasets_lfay/MedImageInsights/data/text_embeddings/shuffled/averaged_embeddings_shuffled_templates_fixed_label.npy\", averaged_embeddings_shuffled)\n"
   ]
  },
  {
   "cell_type": "markdown",
   "metadata": {},
   "source": [
    "### Prompt shuffling+ fixed label (small letter)"
   ]
  },
  {
   "cell_type": "code",
   "execution_count": 33,
   "metadata": {},
   "outputs": [
    {
     "name": "stdout",
     "output_type": "stream",
     "text": [
      "101\n",
      "16\n",
      "101\n",
      "16\n",
      "(16, 1024)\n",
      "(16, 1024)\n",
      "(2, 1024)\n"
     ]
    }
   ],
   "source": [
    "prompt_items = [\"chest\", \"x-ray\", \"anteroposterior\"]\n",
    "\n",
    "# create random prompts by shuffling the prompt items. The word \"Pneumonia\" is always included in the prompt, positioned randomly\n",
    "templates_pneumonia = [\"pneumonia\"]\n",
    "for i in range(100):\n",
    "    # select random amount of prompt items\n",
    "    n = np.random.randint(1, 4)\n",
    "    prompt = np.random.choice(prompt_items, n, replace=False).tolist()\n",
    "    prompt.append(\"pneumonia\")\n",
    "    # add \"Pneumonia\" to the prompt\n",
    "    prompts = \" \".join(prompt)\n",
    "\n",
    "    templates_pneumonia.append(prompts)\n",
    "    \n",
    "print(len(templates_pneumonia))\n",
    "print(len(set(templates_pneumonia)))\n",
    "\n",
    "templates_no_finding = [\"no finding\"]\n",
    "for i in range(100):\n",
    "    # select random amount of prompt items\n",
    "    n = np.random.randint(1, 4)\n",
    "    prompt = np.random.choice(prompt_items, n, replace=False).tolist()\n",
    "    prompt.append(\"no finding\")\n",
    "    # add \"Pneumonia\" to the prompt\n",
    "    prompts = \" \".join(prompt)\n",
    "\n",
    "    templates_no_finding.append(prompts)\n",
    "\n",
    "print(len(templates_no_finding))\n",
    "print(len(set(templates_no_finding)))\n",
    "\n",
    "prompts_disease = list(set(templates_pneumonia))\n",
    "prompts_no_disease = list(set(templates_no_finding))\n",
    "\n",
    "embeddings_disease = classifier.encode(texts=prompts_disease)[\"text_embeddings\"]\n",
    "embeddings_no_disease = classifier.encode(texts=prompts_no_disease)[\"text_embeddings\"]\n",
    "\n",
    "print(embeddings_disease.shape)\n",
    "print(embeddings_no_disease.shape)\n",
    "\n",
    "# Compute average\n",
    "average_embedding_disease = np.mean(embeddings_disease, axis=0)\n",
    "average_embedding_no_disease = np.mean(embeddings_no_disease, axis=0)\n",
    "\n",
    "averaged_embeddings_shuffled = np.vstack([average_embedding_no_disease, average_embedding_disease])\n",
    "print(averaged_embeddings_shuffled.shape)\n",
    "\n",
    "# Save shuffeled average embeddings\n",
    "np.save(\"/mnt/data2/datasets_lfay/MedImageInsights/data/text_embeddings/shuffled/averaged_embeddings_shuffled_templates_fixed_label_small_letter.npy\", averaged_embeddings_shuffled)\n"
   ]
  },
  {
   "cell_type": "markdown",
   "metadata": {},
   "source": [
    "### Prompts including Imagenet"
   ]
  },
  {
   "cell_type": "code",
   "execution_count": 4,
   "metadata": {},
   "outputs": [],
   "source": [
    "IMAGENET_DEFAULT_TEMPLATES = [\n",
    "    '{}.',\n",
    "    'a bad photo of a {}.',\n",
    "    'a photo of many {}.',\n",
    "    'a sculpture of a {}.',\n",
    "    'a photo of the hard to see {}.',\n",
    "    'a low resolution photo of the {}.',\n",
    "    'a rendering of a {}.',\n",
    "    'graffiti of a {}.',\n",
    "    'a bad photo of the {}.',\n",
    "    'a cropped photo of the {}.',\n",
    "    'a tattoo of a {}.',\n",
    "    'the embroidered {}.',\n",
    "    'a photo of a hard to see {}.',\n",
    "    'a bright photo of a {}.',\n",
    "    'a photo of a clean {}.',\n",
    "    'a photo of a dirty {}.',\n",
    "    'a dark photo of the {}.',\n",
    "    'a drawing of a {}.',\n",
    "    'a photo of my {}.',\n",
    "    'the plastic {}.',\n",
    "    'a photo of the cool {}.',\n",
    "    'a close-up photo of a {}.',\n",
    "    'a black and white photo of the {}.',\n",
    "    'a painting of the {}.',\n",
    "    'a painting of a {}.',\n",
    "    'a pixelated photo of the {}.',\n",
    "    'a sculpture of the {}.',\n",
    "    'a bright photo of the {}.',\n",
    "    'a cropped photo of a {}.',\n",
    "    'a plastic {}.',\n",
    "    'a photo of the dirty {}.',\n",
    "    'a jpeg corrupted photo of a {}.',\n",
    "    'a blurry photo of the {}.',\n",
    "    'a photo of the {}.',\n",
    "    'a good photo of the {}.',\n",
    "    'a rendering of the {}.',\n",
    "    'a {} in a video game.',\n",
    "    'a photo of one {}.',\n",
    "    'a doodle of a {}.',\n",
    "    'a close-up photo of the {}.',\n",
    "    'a photo of a {}.',\n",
    "    'the origami {}.',\n",
    "    'the {} in a video game.',\n",
    "    'a sketch of a {}.',\n",
    "    'a doodle of the {}.',\n",
    "    'a origami {}.',\n",
    "    'a low resolution photo of a {}.',\n",
    "    'the toy {}.',\n",
    "    'a rendition of the {}.',\n",
    "    'a photo of the clean {}.',\n",
    "    'a photo of a large {}.',\n",
    "    'a rendition of a {}.',\n",
    "    'a photo of a nice {}.',\n",
    "    'a photo of a weird {}.',\n",
    "    'a blurry photo of a {}.',\n",
    "    'a cartoon {}.',\n",
    "    'art of a {}.',\n",
    "    'a sketch of the {}.',\n",
    "    'a embroidered {}.',\n",
    "    'a pixelated photo of a {}.',\n",
    "    'itap of the {}.',\n",
    "    'a jpeg corrupted photo of the {}.',\n",
    "    'a good photo of a {}.',\n",
    "    'a plushie {}.',\n",
    "    'a photo of the nice {}.',\n",
    "    'a photo of the small {}.',\n",
    "    'a photo of the weird {}.',\n",
    "    'the cartoon {}.',\n",
    "    'art of the {}.',\n",
    "    'a drawing of the {}.',\n",
    "    'a photo of the large {}.',\n",
    "    'a black and white photo of a {}.',\n",
    "    'the plushie {}.',\n",
    "    'a dark photo of a {}.',\n",
    "    'itap of a {}.',\n",
    "    'graffiti of the {}.',\n",
    "    'a toy {}.',\n",
    "    'itap of my {}.',\n",
    "    'a photo of a cool {}.',\n",
    "    'a photo of a small {}.',\n",
    "    'a tattoo of the {}.',\n",
    "]\n"
   ]
  },
  {
   "cell_type": "code",
   "execution_count": 45,
   "metadata": {},
   "outputs": [
    {
     "name": "stdout",
     "output_type": "stream",
     "text": [
      "(1024,)\n",
      "(1024,)\n"
     ]
    }
   ],
   "source": [
    "# Replace {} with \"Pneumonia\"\n",
    "\n",
    "imagenet_templates_pneumonia = [t.format(\"Pneumonia\") for t in IMAGENET_DEFAULT_TEMPLATES]\n",
    "imagenet_templates_no_finding = [t.format(\"No Finding\") for t in IMAGENET_DEFAULT_TEMPLATES]\n",
    "\n",
    "embeddings_imagenet_pneumonia = classifier.encode(texts=imagenet_templates_pneumonia)[\"text_embeddings\"]\n",
    "embeddings_imagenet_no_finding = classifier.encode(texts=imagenet_templates_no_finding)[\"text_embeddings\"]\n",
    "\n",
    "average_embedding_imagenet_pneumonia = np.mean(embeddings_imagenet_pneumonia, axis=0)\n",
    "average_embedding_imagenet_no_finding = np.mean(embeddings_imagenet_no_finding, axis=0)\n",
    "\n",
    "print(average_embedding_imagenet_pneumonia.shape)\n",
    "print(average_embedding_imagenet_no_finding.shape)\n",
    "\n",
    "averaged_embeddings_imagenet = np.vstack([average_embedding_imagenet_no_finding, average_embedding_imagenet_pneumonia])\n",
    "\n",
    "np.save(\"/mnt/data2/datasets_lfay/MedImageInsights/data/text_embeddings/imagenet/averaged_embeddings_imagenet_templates.npy\", averaged_embeddings_imagenet)"
   ]
  },
  {
   "cell_type": "markdown",
   "metadata": {},
   "source": [
    "### ImageNet shuffling + Prompt templates"
   ]
  },
  {
   "cell_type": "code",
   "execution_count": 9,
   "metadata": {},
   "outputs": [
    {
     "name": "stdout",
     "output_type": "stream",
     "text": [
      "486\n",
      "486\n",
      "486\n",
      "486\n"
     ]
    },
    {
     "name": "stdout",
     "output_type": "stream",
     "text": [
      "(486, 1024)\n",
      "(486, 1024)\n",
      "(2, 1024)\n"
     ]
    }
   ],
   "source": [
    "prompt_templates = [\n",
    "    \"\",\n",
    "    \"chest \",\n",
    "    \"x-ray \",\n",
    "    \"chest x-ray \",\n",
    "    \"chest x-ray anteroposterior \",\n",
    "    \"chest x-ray posteroanterior \"\n",
    "]\n",
    "\n",
    "\n",
    "# generate templates by combining prompt templates with imagenet templates\n",
    "templates_pneumonia = []\n",
    "\n",
    "for prompt in prompt_templates:\n",
    "    for template in IMAGENET_DEFAULT_TEMPLATES:\n",
    "        templates_pneumonia.append(prompt + template.format(\"Pneumonia\"))\n",
    "\n",
    "print(len(templates_pneumonia))\n",
    "print(len(set(templates_pneumonia)))\n",
    "\n",
    "templates_no_finding = []\n",
    "\n",
    "for prompt in prompt_templates:\n",
    "    for template in IMAGENET_DEFAULT_TEMPLATES:\n",
    "        templates_no_finding.append(prompt + template.format(\"No Finding\")) \n",
    "\n",
    "print(len(templates_no_finding))\n",
    "print(len(set(templates_no_finding)))\n",
    "\n",
    "prompts_disease = list(set(templates_pneumonia))\n",
    "prompts_no_disease = list(set(templates_no_finding))\n",
    "\n",
    "embeddings_disease = []\n",
    "embeddings_no_disease = []\n",
    "for i in range(0, len(prompts_disease), 100):\n",
    "    embeddings_disease.append(classifier.encode(texts=prompts_disease[i:i+100])[\"text_embeddings\"])\n",
    "    embeddings_no_disease.append(classifier.encode(texts=prompts_no_disease[i:i+100])[\"text_embeddings\"])\n",
    "\n",
    "# embeddings_disease_1 = classifier.encode(texts=prompts_disease[:230])[\"text_embeddings\"]\n",
    "# embeddings_disease_2 = classifier.encode(texts=prompts_disease[230:])[\"text_embeddings\"]\n",
    "# embeddings_no_disease_1 = classifier.encode(texts=prompts_no_disease[230:])[\"text_embeddings\"]\n",
    "# embeddings_no_disease_2 = classifier.encode(texts=prompts_no_disease[:230])[\"text_embeddings\"]\n",
    "embeddings_disease = np.vstack(embeddings_disease)\n",
    "embeddings_no_disease = np.vstack(embeddings_no_disease)\n",
    "\n",
    "print(embeddings_disease.shape)\n",
    "print(embeddings_no_disease.shape)\n",
    "\n",
    "# Compute average\n",
    "average_embedding_disease = np.mean(embeddings_disease, axis=0)\n",
    "average_embedding_no_disease = np.mean(embeddings_no_disease, axis=0)\n",
    "\n",
    "averaged_embeddings = np.vstack([average_embedding_no_disease, average_embedding_disease])\n",
    "print(averaged_embeddings.shape)\n",
    "\n",
    "# Save shuffeled average embeddings\n",
    "np.save(\"/mnt/data2/datasets_lfay/MedImageInsights/data/text_embeddings/imagenet/averaged_embeddings_imagenet_plus_prompts_templates.npy\", averaged_embeddings)"
   ]
  }
 ],
 "metadata": {
  "kernelspec": {
   "display_name": ".venv",
   "language": "python",
   "name": "python3"
  },
  "language_info": {
   "codemirror_mode": {
    "name": "ipython",
    "version": 3
   },
   "file_extension": ".py",
   "mimetype": "text/x-python",
   "name": "python",
   "nbconvert_exporter": "python",
   "pygments_lexer": "ipython3",
   "version": "3.8.19"
  }
 },
 "nbformat": 4,
 "nbformat_minor": 2
}
